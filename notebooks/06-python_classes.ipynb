{
 "cells": [
  {
   "cell_type": "markdown",
   "metadata": {},
   "source": [
    "# Python classes\n",
    "\n",
    "Python is an object-oriented programming language. Classes are used to define new types of objects. A class is a blueprint for an object. It defines a set of *attributes* and *methods* that an object of the class will have. An *attribute* is a variable that is associated with the class. A *method* is a function that is associated with the class. Using classes, we can create new instances of objects that have the same attributes and methods as the class."
   ]
  },
  {
   "cell_type": "markdown",
   "metadata": {},
   "source": [
    "Let's give a simple example: a class `Person` that has attributes `name`, `surname`, and `age`, and a method `grow_up` that increases the age of the person by a given number of years (default is 1)."
   ]
  },
  {
   "cell_type": "code",
   "execution_count": null,
   "metadata": {},
   "outputs": [],
   "source": [
    "class Person: # class definition\n",
    "  \"\"\"\n",
    "  We can write the documentation of the class here. This will be shown when we call help(Person), or print(Person.__doc__), or when using an IDE that shows the documentation of the class when we hover the mouse over the class name.\n",
    "  \n",
    "  Typically here one writes useful information about the class, like what it does, what it is used for, what are the attributes and methods, etc.\n",
    "  \n",
    "  Example:\n",
    "  \n",
    "  The Person class represents a person with a name, a surname and an age. It has a method grow_up that increases the age of the person by a certain number of years.\n",
    "  \"\"\"\n",
    "  def __init__(self, name, surname, age):\n",
    "    \"\"\" \n",
    "    Initialization method of the class. It is called when we create a new object of the class.\n",
    "    \n",
    "    Args:\n",
    "    - name: str, the name of the person\n",
    "    - surname: str, the surname of the person\n",
    "    - age: int, the age of the person\n",
    "    \"\"\"\n",
    "    self.name = name # we set the attribute `name` of the object to the value of the variable `name` passed as argument\n",
    "    self.surname = surname # we set the attribute `surname` of the object to the value of the variable `surname` passed as argument\n",
    "    self.age = age # we set the attribute `age` of the object to the value of the variable `age` passed as argument\n",
    "  def grow_up(self,years=1):\n",
    "    \"\"\"\n",
    "    Method of the class that increases the age of the person by a certain number of years.\n",
    "    \n",
    "    Args:\n",
    "    - years: int, the number of years by which the age of the person should be increased. Default is 1.\n",
    "    \"\"\"\n",
    "    self.age += years # we increase the age of the person by the number of years passed as argument"
   ]
  },
  {
   "cell_type": "markdown",
   "metadata": {},
   "source": [
    "We can create an instance of the class `Person` by calling the class with the attributes we want to give to the object. "
   ]
  },
  {
   "cell_type": "code",
   "execution_count": 7,
   "metadata": {},
   "outputs": [],
   "source": [
    "person_1 = Person(\"Gianluca\", \"Orlando\", 35)"
   ]
  },
  {
   "cell_type": "markdown",
   "metadata": {},
   "source": [
    "We can now access the attributes of the object using the dot notation."
   ]
  },
  {
   "cell_type": "code",
   "execution_count": 8,
   "metadata": {},
   "outputs": [
    {
     "data": {
      "text/plain": [
       "'Gianluca'"
      ]
     },
     "execution_count": 8,
     "metadata": {},
     "output_type": "execute_result"
    }
   ],
   "source": [
    "person_1.name"
   ]
  },
  {
   "cell_type": "code",
   "execution_count": 9,
   "metadata": {},
   "outputs": [
    {
     "data": {
      "text/plain": [
       "35"
      ]
     },
     "execution_count": 9,
     "metadata": {},
     "output_type": "execute_result"
    }
   ],
   "source": [
    "person_1.age"
   ]
  },
  {
   "cell_type": "markdown",
   "metadata": {},
   "source": [
    "We create a second instance of the class `Person`."
   ]
  },
  {
   "cell_type": "code",
   "execution_count": 10,
   "metadata": {},
   "outputs": [],
   "source": [
    "person_2 = Person(\"Francesco\", \"Maddalena\", 50)"
   ]
  },
  {
   "cell_type": "markdown",
   "metadata": {},
   "source": [
    "We can also call the methods of the object using the dot notation. This can be useful, for example, to change the attributes of the object."
   ]
  },
  {
   "cell_type": "code",
   "execution_count": 11,
   "metadata": {},
   "outputs": [
    {
     "data": {
      "text/plain": [
       "35"
      ]
     },
     "execution_count": 11,
     "metadata": {},
     "output_type": "execute_result"
    }
   ],
   "source": [
    "person_1.age"
   ]
  },
  {
   "cell_type": "code",
   "execution_count": 12,
   "metadata": {},
   "outputs": [],
   "source": [
    "person_1.grow_up()"
   ]
  },
  {
   "cell_type": "code",
   "execution_count": 13,
   "metadata": {},
   "outputs": [
    {
     "data": {
      "text/plain": [
       "36"
      ]
     },
     "execution_count": 13,
     "metadata": {},
     "output_type": "execute_result"
    }
   ],
   "source": [
    "person_1.age"
   ]
  },
  {
   "cell_type": "markdown",
   "metadata": {},
   "source": [
    "The method `grow_up` increased the age of the first person by 1 year. Note that other instances of the class are not affected by this method call!"
   ]
  },
  {
   "cell_type": "code",
   "execution_count": 14,
   "metadata": {},
   "outputs": [
    {
     "data": {
      "text/plain": [
       "50"
      ]
     },
     "execution_count": 14,
     "metadata": {},
     "output_type": "execute_result"
    }
   ],
   "source": [
    "person_2.age"
   ]
  },
  {
   "cell_type": "markdown",
   "metadata": {},
   "source": [
    "We can also define a subclass of a class. A subclass inherits all the attributes and methods of the parent class. We can also define new attributes and methods for the subclass.\n",
    "\n",
    "In this example, we define a subclass `Student` of the class `Person`. The subclass has additional attributes like `exams`, which is a dictionary that stores the names of the exams, the grades, and the credits of the student. We also define a method `passed_exam` that adds a new exam to the dictionary of the student. We define a method `get_weighted_average` that calculates the weighted average of the grades of the student."
   ]
  },
  {
   "cell_type": "code",
   "execution_count": 18,
   "metadata": {},
   "outputs": [],
   "source": [
    "class Student(Person):\n",
    "  \"\"\"\n",
    "  The Student class represents a student, which is a person with the additional attribute `exams`, which is a dictionary that contains the exams passed by the student, with the grade and the CFU of each exam.\n",
    "  \n",
    "  It has a method `passed_exam` that allows to add a new exam to the dictionary of exams, and a method `get_weighted_average` that calculates the weighted average of the grades of the exams passed by the student.\n",
    "  \"\"\"\n",
    "  def __init__(self, name, surname, age):\n",
    "    \"\"\"\n",
    "    Initialization method of the class. \n",
    "    \n",
    "    Args:\n",
    "    - name: str, the name of the student\n",
    "    - surname: str, the surname of the student\n",
    "    - age: int, the age of the student\n",
    "    \"\"\"\n",
    "    super().__init__(name, surname, age) # we call the initialization method of the parent class Person, since a student is a person\n",
    "    self.exams = {} # we initialize the attribute `exams` as an empty dictionary\n",
    "  def passed_exam(self, exam, grade, cfu):\n",
    "    \"\"\"\n",
    "    Method of the class that allows us to add a new exam to the dictionary of exams of the student.\n",
    "    \n",
    "    Args:\n",
    "    - exam: str, the name of the exam\n",
    "    - grade: float, the grade obtained in the exam\n",
    "    - cfu: int, the CFU of the exam\n",
    "    \"\"\"\n",
    "    self.exams[exam] = (grade, cfu) # corresponding to the key `exam` we store a tuple with the grade and the CFU of the exam\n",
    "  def get_weighted_average(self):\n",
    "    \"\"\"\n",
    "    Method of the class that calculates the weighted average of the grades of the exams passed by the student.\n",
    "    \n",
    "    Returns:\n",
    "    - float, the weighted average of the grades of the exams passed by the student\n",
    "    \"\"\"\n",
    "    total = 0 # we initialize the variable `total` to 0\n",
    "    total_cfu = 0 # we initialize the variable `total_cfu` to 0\n",
    "    for exam in self.exams: # for each exam in the dictionary of exams\n",
    "      grade, cfu = self.exams[exam] # we get the grade and the CFU of the exam\n",
    "      total += grade * cfu # we add the product of the grade and the CFU to the total\n",
    "      total_cfu += cfu # we add the CFU to the total CFU\n",
    "    if total_cfu == 0:\n",
    "      return 0.\n",
    "    else:\n",
    "      return total / total_cfu"
   ]
  },
  {
   "cell_type": "markdown",
   "metadata": {},
   "source": [
    "Let's see an example. \n",
    "\n",
    "**Note:** Exams and grades are made up!"
   ]
  },
  {
   "cell_type": "code",
   "execution_count": null,
   "metadata": {},
   "outputs": [],
   "source": [
    "student = Student(\"Mojtaba\", \"Porghoveh\", 35) "
   ]
  },
  {
   "cell_type": "code",
   "execution_count": 20,
   "metadata": {},
   "outputs": [
    {
     "data": {
      "text/plain": [
       "0.0"
      ]
     },
     "execution_count": 20,
     "metadata": {},
     "output_type": "execute_result"
    }
   ],
   "source": [
    "student.get_weighted_average()"
   ]
  },
  {
   "cell_type": "code",
   "execution_count": 26,
   "metadata": {},
   "outputs": [],
   "source": [
    "student.passed_exam(\"Mathematical methods in Deep Learning\", 30, 2)\n",
    "student.passed_exam(\"Linear Algebra\", 28, 6)"
   ]
  },
  {
   "cell_type": "code",
   "execution_count": 27,
   "metadata": {},
   "outputs": [
    {
     "data": {
      "text/plain": [
       "{'Mathematical methods in Deep Learning': (30, 2), 'Linear Algebra': (28, 6)}"
      ]
     },
     "execution_count": 27,
     "metadata": {},
     "output_type": "execute_result"
    }
   ],
   "source": [
    "student.exams"
   ]
  },
  {
   "cell_type": "code",
   "execution_count": 25,
   "metadata": {},
   "outputs": [
    {
     "data": {
      "text/plain": [
       "28.5"
      ]
     },
     "execution_count": 25,
     "metadata": {},
     "output_type": "execute_result"
    }
   ],
   "source": [
    "student.get_weighted_average()"
   ]
  }
 ],
 "metadata": {
  "kernelspec": {
   "display_name": ".venv",
   "language": "python",
   "name": "python3"
  },
  "language_info": {
   "codemirror_mode": {
    "name": "ipython",
    "version": 3
   },
   "file_extension": ".py",
   "mimetype": "text/x-python",
   "name": "python",
   "nbconvert_exporter": "python",
   "pygments_lexer": "ipython3",
   "version": "3.12.7"
  }
 },
 "nbformat": 4,
 "nbformat_minor": 2
}
