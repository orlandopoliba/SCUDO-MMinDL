{
 "cells": [
  {
   "cell_type": "markdown",
   "metadata": {},
   "source": [
    "# Linear regression\n",
    "\n",
    "We recall one of the most basic models in machine learning: linear regression. We apply it to the problem of predicting the price of a house."
   ]
  },
  {
   "cell_type": "markdown",
   "metadata": {},
   "source": [
    "We use the dataset available on [Kaggle](https://www.kaggle.com/datasets/kirbysasuke/house-price-prediction-simplified-for-regression). Its format is a CSV file. We load it as a `DataFrame` using the `pandas` library."
   ]
  },
  {
   "cell_type": "code",
   "execution_count": 261,
   "metadata": {},
   "outputs": [],
   "source": [
    "import pandas as pd"
   ]
  },
  {
   "cell_type": "code",
   "execution_count": 262,
   "metadata": {},
   "outputs": [],
   "source": [
    "data = pd.read_csv('../datasets/Real_Estate.csv')"
   ]
  },
  {
   "cell_type": "code",
   "execution_count": 263,
   "metadata": {},
   "outputs": [
    {
     "data": {
      "text/html": [
       "<div>\n",
       "<style scoped>\n",
       "    .dataframe tbody tr th:only-of-type {\n",
       "        vertical-align: middle;\n",
       "    }\n",
       "\n",
       "    .dataframe tbody tr th {\n",
       "        vertical-align: top;\n",
       "    }\n",
       "\n",
       "    .dataframe thead th {\n",
       "        text-align: right;\n",
       "    }\n",
       "</style>\n",
       "<table border=\"1\" class=\"dataframe\">\n",
       "  <thead>\n",
       "    <tr style=\"text-align: right;\">\n",
       "      <th></th>\n",
       "      <th>Transaction date</th>\n",
       "      <th>House age</th>\n",
       "      <th>Distance to the nearest MRT station</th>\n",
       "      <th>Number of convenience stores</th>\n",
       "      <th>Latitude</th>\n",
       "      <th>Longitude</th>\n",
       "      <th>House price of unit area</th>\n",
       "    </tr>\n",
       "  </thead>\n",
       "  <tbody>\n",
       "    <tr>\n",
       "      <th>0</th>\n",
       "      <td>2012-09-02 16:42:30.519336</td>\n",
       "      <td>13.3</td>\n",
       "      <td>4082.01500</td>\n",
       "      <td>8</td>\n",
       "      <td>25.007059</td>\n",
       "      <td>121.561694</td>\n",
       "      <td>6.488673</td>\n",
       "    </tr>\n",
       "    <tr>\n",
       "      <th>1</th>\n",
       "      <td>2012-09-04 22:52:29.919544</td>\n",
       "      <td>35.5</td>\n",
       "      <td>274.01440</td>\n",
       "      <td>2</td>\n",
       "      <td>25.012148</td>\n",
       "      <td>121.546990</td>\n",
       "      <td>24.970725</td>\n",
       "    </tr>\n",
       "    <tr>\n",
       "      <th>2</th>\n",
       "      <td>2012-09-05 01:10:52.349449</td>\n",
       "      <td>1.1</td>\n",
       "      <td>1978.67100</td>\n",
       "      <td>10</td>\n",
       "      <td>25.003850</td>\n",
       "      <td>121.528336</td>\n",
       "      <td>26.694267</td>\n",
       "    </tr>\n",
       "    <tr>\n",
       "      <th>3</th>\n",
       "      <td>2012-09-05 13:26:01.189083</td>\n",
       "      <td>22.2</td>\n",
       "      <td>1055.06700</td>\n",
       "      <td>5</td>\n",
       "      <td>24.962887</td>\n",
       "      <td>121.482178</td>\n",
       "      <td>38.091638</td>\n",
       "    </tr>\n",
       "    <tr>\n",
       "      <th>4</th>\n",
       "      <td>2012-09-06 08:29:47.910523</td>\n",
       "      <td>8.5</td>\n",
       "      <td>967.40000</td>\n",
       "      <td>6</td>\n",
       "      <td>25.011037</td>\n",
       "      <td>121.479946</td>\n",
       "      <td>21.654710</td>\n",
       "    </tr>\n",
       "    <tr>\n",
       "      <th>...</th>\n",
       "      <td>...</td>\n",
       "      <td>...</td>\n",
       "      <td>...</td>\n",
       "      <td>...</td>\n",
       "      <td>...</td>\n",
       "      <td>...</td>\n",
       "      <td>...</td>\n",
       "    </tr>\n",
       "    <tr>\n",
       "      <th>409</th>\n",
       "      <td>2013-07-25 15:30:36.565239</td>\n",
       "      <td>18.3</td>\n",
       "      <td>170.12890</td>\n",
       "      <td>6</td>\n",
       "      <td>24.981186</td>\n",
       "      <td>121.486798</td>\n",
       "      <td>29.096310</td>\n",
       "    </tr>\n",
       "    <tr>\n",
       "      <th>410</th>\n",
       "      <td>2013-07-26 17:16:34.019780</td>\n",
       "      <td>11.9</td>\n",
       "      <td>323.69120</td>\n",
       "      <td>2</td>\n",
       "      <td>24.950070</td>\n",
       "      <td>121.483918</td>\n",
       "      <td>33.871347</td>\n",
       "    </tr>\n",
       "    <tr>\n",
       "      <th>411</th>\n",
       "      <td>2013-07-28 21:47:23.339050</td>\n",
       "      <td>0.0</td>\n",
       "      <td>451.64190</td>\n",
       "      <td>8</td>\n",
       "      <td>24.963901</td>\n",
       "      <td>121.543387</td>\n",
       "      <td>25.255105</td>\n",
       "    </tr>\n",
       "    <tr>\n",
       "      <th>412</th>\n",
       "      <td>2013-07-29 13:33:29.405317</td>\n",
       "      <td>35.9</td>\n",
       "      <td>292.99780</td>\n",
       "      <td>5</td>\n",
       "      <td>24.997863</td>\n",
       "      <td>121.558286</td>\n",
       "      <td>25.285620</td>\n",
       "    </tr>\n",
       "    <tr>\n",
       "      <th>413</th>\n",
       "      <td>2013-08-01 09:49:41.506402</td>\n",
       "      <td>12.0</td>\n",
       "      <td>90.45606</td>\n",
       "      <td>6</td>\n",
       "      <td>24.952904</td>\n",
       "      <td>121.526395</td>\n",
       "      <td>37.580554</td>\n",
       "    </tr>\n",
       "  </tbody>\n",
       "</table>\n",
       "<p>414 rows × 7 columns</p>\n",
       "</div>"
      ],
      "text/plain": [
       "               Transaction date  House age  \\\n",
       "0    2012-09-02 16:42:30.519336       13.3   \n",
       "1    2012-09-04 22:52:29.919544       35.5   \n",
       "2    2012-09-05 01:10:52.349449        1.1   \n",
       "3    2012-09-05 13:26:01.189083       22.2   \n",
       "4    2012-09-06 08:29:47.910523        8.5   \n",
       "..                          ...        ...   \n",
       "409  2013-07-25 15:30:36.565239       18.3   \n",
       "410  2013-07-26 17:16:34.019780       11.9   \n",
       "411  2013-07-28 21:47:23.339050        0.0   \n",
       "412  2013-07-29 13:33:29.405317       35.9   \n",
       "413  2013-08-01 09:49:41.506402       12.0   \n",
       "\n",
       "     Distance to the nearest MRT station  Number of convenience stores  \\\n",
       "0                             4082.01500                             8   \n",
       "1                              274.01440                             2   \n",
       "2                             1978.67100                            10   \n",
       "3                             1055.06700                             5   \n",
       "4                              967.40000                             6   \n",
       "..                                   ...                           ...   \n",
       "409                            170.12890                             6   \n",
       "410                            323.69120                             2   \n",
       "411                            451.64190                             8   \n",
       "412                            292.99780                             5   \n",
       "413                             90.45606                             6   \n",
       "\n",
       "      Latitude   Longitude  House price of unit area  \n",
       "0    25.007059  121.561694                  6.488673  \n",
       "1    25.012148  121.546990                 24.970725  \n",
       "2    25.003850  121.528336                 26.694267  \n",
       "3    24.962887  121.482178                 38.091638  \n",
       "4    25.011037  121.479946                 21.654710  \n",
       "..         ...         ...                       ...  \n",
       "409  24.981186  121.486798                 29.096310  \n",
       "410  24.950070  121.483918                 33.871347  \n",
       "411  24.963901  121.543387                 25.255105  \n",
       "412  24.997863  121.558286                 25.285620  \n",
       "413  24.952904  121.526395                 37.580554  \n",
       "\n",
       "[414 rows x 7 columns]"
      ]
     },
     "execution_count": 263,
     "metadata": {},
     "output_type": "execute_result"
    }
   ],
   "source": [
    "data"
   ]
  },
  {
   "cell_type": "code",
   "execution_count": 264,
   "metadata": {},
   "outputs": [
    {
     "name": "stdout",
     "output_type": "stream",
     "text": [
      "<class 'pandas.core.frame.DataFrame'>\n",
      "RangeIndex: 414 entries, 0 to 413\n",
      "Data columns (total 7 columns):\n",
      " #   Column                               Non-Null Count  Dtype  \n",
      "---  ------                               --------------  -----  \n",
      " 0   Transaction date                     414 non-null    object \n",
      " 1   House age                            414 non-null    float64\n",
      " 2   Distance to the nearest MRT station  414 non-null    float64\n",
      " 3   Number of convenience stores         414 non-null    int64  \n",
      " 4   Latitude                             414 non-null    float64\n",
      " 5   Longitude                            414 non-null    float64\n",
      " 6   House price of unit area             414 non-null    float64\n",
      "dtypes: float64(5), int64(1), object(1)\n",
      "memory usage: 22.8+ KB\n"
     ]
    }
   ],
   "source": [
    "data.info()"
   ]
  },
  {
   "cell_type": "markdown",
   "metadata": {},
   "source": [
    "We can display the distribution of each column in the dataset."
   ]
  },
  {
   "cell_type": "code",
   "execution_count": 265,
   "metadata": {},
   "outputs": [
    {
     "data": {
      "image/png": "[encoded data removed]",
      "text/plain": [
       "<Figure size 640x480 with 6 Axes>"
      ]
     },
     "metadata": {},
     "output_type": "display_data"
    }
   ],
   "source": [
    "_ = data.hist()"
   ]
  },
  {
   "cell_type": "markdown",
   "metadata": {},
   "source": [
    "We have a dataset with 414 observations and 7 columns. We will do a simple linear regression using the following features:\n",
    "- `House age` -> $X_0$\n",
    "- `Distance to the nearest MRT station` -> $X_1$\n",
    "- `Number of convenience stores` -> $X_2$\n",
    "- `Latitude` -> $X_3$\n",
    "- `Longitude` -> $X_4$\n",
    "  \n",
    "trying to predict the\n",
    "- `House price of unit area` -> $Y$"
   ]
  },
  {
   "cell_type": "markdown",
   "metadata": {},
   "source": [
    "We want to predict the `House price of unit area` based on the other features with a linear model, _i.e._, a prediction based on the ansatz\n",
    "$$\n",
    "Y \\approx w_0 X_0 + w_1 X_1 + w_2 X_2 + w_3 X_3 + w_4 X_4 + b. \n",
    "$$\n",
    "The objective is to find \"good\" values for the weights $w_0, w_1, w_2, w_3, w_4$ and the bias $b$, exploiting the available data."
   ]
  },
  {
   "cell_type": "markdown",
   "metadata": {},
   "source": [
    "We recall how linear regression works. We have some observed realizations of the features $X_0, X_1, \\dots, X_{M-1}$ (here $M=5$) and the target $Y$, _i.e._, we have a dataset $\\{(x_{i}, y_{i})\\}_{i=0, \\ldots, N-1}$ (here $N=332$) where $x_i = (x_{i0}, x_{i1}, \\dots, x_{i,M-1}) \\in \\mathbb{R}^{1\\times M}$ and $y_i \\in \\mathbb{R}$ are the features and the target of the $i$-th observation, respectively. We can think of the features as input data and they can be summarized in a matrix $x \\in \\mathbb{R}^{N\\times M}$ and the target as a vector $y \\in \\mathbb{R}^{N\\times 1}$. "
   ]
  },
  {
   "cell_type": "markdown",
   "metadata": {},
   "source": [
    "The linear regression model can be written compactly as\n",
    "$$\n",
    "f(X;w,b) = Xw + b,\n",
    "$$\n",
    "where $X = (X_0, X_1, \\dots, X_{M-1}) \\in \\mathbb{R}^{1 \\times M}$ is the random feature vector, $w \\in \\mathbb{R}^{M\\times 1}$ is the weights vector, and $b \\in \\mathbb{R}$ is the bias. The objective is to find the weights $w$ and the bias $b$ that minimize the mean squared error (MSE) between the predictions and the real target, _i.e._, \n",
    "$$\n",
    "\\min_{\\substack{w \\in \\mathbb{R}^{M \\times 1} \\\\ \\ b \\in \\mathbb{R}}} L(w,b;\\{(x_i,y_i)\\}_{i=0,\\dots,N-1})\\, , \\  \\quad \\text{where } L(w,b;\\{(x_i,y_i)\\}_{i=0,\\dots,N-1}) = \\frac{1}{N} \\sum_{i=0}^{N-1} (x_i w + b - y_i)^2.\n",
    "$$"
   ]
  },
  {
   "cell_type": "markdown",
   "metadata": {},
   "source": [
    "We will use the `torch` library to work with tensors and perform linear algebra operations."
   ]
  },
  {
   "cell_type": "code",
   "execution_count": 266,
   "metadata": {},
   "outputs": [],
   "source": [
    "import torch"
   ]
  },
  {
   "cell_type": "markdown",
   "metadata": {},
   "source": [
    "Let us reorganize the dataset by selecting the features and the target. "
   ]
  },
  {
   "cell_type": "code",
   "execution_count": 267,
   "metadata": {},
   "outputs": [
    {
     "data": {
      "text/html": [
       "<div>\n",
       "<style scoped>\n",
       "    .dataframe tbody tr th:only-of-type {\n",
       "        vertical-align: middle;\n",
       "    }\n",
       "\n",
       "    .dataframe tbody tr th {\n",
       "        vertical-align: top;\n",
       "    }\n",
       "\n",
       "    .dataframe thead th {\n",
       "        text-align: right;\n",
       "    }\n",
       "</style>\n",
       "<table border=\"1\" class=\"dataframe\">\n",
       "  <thead>\n",
       "    <tr style=\"text-align: right;\">\n",
       "      <th></th>\n",
       "      <th>House age</th>\n",
       "      <th>Distance to the nearest MRT station</th>\n",
       "      <th>Number of convenience stores</th>\n",
       "      <th>Latitude</th>\n",
       "      <th>Longitude</th>\n",
       "    </tr>\n",
       "  </thead>\n",
       "  <tbody>\n",
       "    <tr>\n",
       "      <th>0</th>\n",
       "      <td>13.3</td>\n",
       "      <td>4082.01500</td>\n",
       "      <td>8</td>\n",
       "      <td>25.007059</td>\n",
       "      <td>121.561694</td>\n",
       "    </tr>\n",
       "    <tr>\n",
       "      <th>1</th>\n",
       "      <td>35.5</td>\n",
       "      <td>274.01440</td>\n",
       "      <td>2</td>\n",
       "      <td>25.012148</td>\n",
       "      <td>121.546990</td>\n",
       "    </tr>\n",
       "    <tr>\n",
       "      <th>2</th>\n",
       "      <td>1.1</td>\n",
       "      <td>1978.67100</td>\n",
       "      <td>10</td>\n",
       "      <td>25.003850</td>\n",
       "      <td>121.528336</td>\n",
       "    </tr>\n",
       "    <tr>\n",
       "      <th>3</th>\n",
       "      <td>22.2</td>\n",
       "      <td>1055.06700</td>\n",
       "      <td>5</td>\n",
       "      <td>24.962887</td>\n",
       "      <td>121.482178</td>\n",
       "    </tr>\n",
       "    <tr>\n",
       "      <th>4</th>\n",
       "      <td>8.5</td>\n",
       "      <td>967.40000</td>\n",
       "      <td>6</td>\n",
       "      <td>25.011037</td>\n",
       "      <td>121.479946</td>\n",
       "    </tr>\n",
       "    <tr>\n",
       "      <th>...</th>\n",
       "      <td>...</td>\n",
       "      <td>...</td>\n",
       "      <td>...</td>\n",
       "      <td>...</td>\n",
       "      <td>...</td>\n",
       "    </tr>\n",
       "    <tr>\n",
       "      <th>409</th>\n",
       "      <td>18.3</td>\n",
       "      <td>170.12890</td>\n",
       "      <td>6</td>\n",
       "      <td>24.981186</td>\n",
       "      <td>121.486798</td>\n",
       "    </tr>\n",
       "    <tr>\n",
       "      <th>410</th>\n",
       "      <td>11.9</td>\n",
       "      <td>323.69120</td>\n",
       "      <td>2</td>\n",
       "      <td>24.950070</td>\n",
       "      <td>121.483918</td>\n",
       "    </tr>\n",
       "    <tr>\n",
       "      <th>411</th>\n",
       "      <td>0.0</td>\n",
       "      <td>451.64190</td>\n",
       "      <td>8</td>\n",
       "      <td>24.963901</td>\n",
       "      <td>121.543387</td>\n",
       "    </tr>\n",
       "    <tr>\n",
       "      <th>412</th>\n",
       "      <td>35.9</td>\n",
       "      <td>292.99780</td>\n",
       "      <td>5</td>\n",
       "      <td>24.997863</td>\n",
       "      <td>121.558286</td>\n",
       "    </tr>\n",
       "    <tr>\n",
       "      <th>413</th>\n",
       "      <td>12.0</td>\n",
       "      <td>90.45606</td>\n",
       "      <td>6</td>\n",
       "      <td>24.952904</td>\n",
       "      <td>121.526395</td>\n",
       "    </tr>\n",
       "  </tbody>\n",
       "</table>\n",
       "<p>414 rows × 5 columns</p>\n",
       "</div>"
      ],
      "text/plain": [
       "     House age  Distance to the nearest MRT station  \\\n",
       "0         13.3                           4082.01500   \n",
       "1         35.5                            274.01440   \n",
       "2          1.1                           1978.67100   \n",
       "3         22.2                           1055.06700   \n",
       "4          8.5                            967.40000   \n",
       "..         ...                                  ...   \n",
       "409       18.3                            170.12890   \n",
       "410       11.9                            323.69120   \n",
       "411        0.0                            451.64190   \n",
       "412       35.9                            292.99780   \n",
       "413       12.0                             90.45606   \n",
       "\n",
       "     Number of convenience stores   Latitude   Longitude  \n",
       "0                               8  25.007059  121.561694  \n",
       "1                               2  25.012148  121.546990  \n",
       "2                              10  25.003850  121.528336  \n",
       "3                               5  24.962887  121.482178  \n",
       "4                               6  25.011037  121.479946  \n",
       "..                            ...        ...         ...  \n",
       "409                             6  24.981186  121.486798  \n",
       "410                             2  24.950070  121.483918  \n",
       "411                             8  24.963901  121.543387  \n",
       "412                             5  24.997863  121.558286  \n",
       "413                             6  24.952904  121.526395  \n",
       "\n",
       "[414 rows x 5 columns]"
      ]
     },
     "execution_count": 267,
     "metadata": {},
     "output_type": "execute_result"
    }
   ],
   "source": [
    "features = ['House age', 'Distance to the nearest MRT station', 'Number of convenience stores', 'Latitude', 'Longitude']\n",
    "data[features] "
   ]
  },
  {
   "cell_type": "markdown",
   "metadata": {},
   "source": [
    "We need a way to measure how good is the model on unseen data. A simple way to do this is to split the dataset into a training set and a test set. The best parameters of the model are found by minimizing the loss function on the training set. The test set is used to evaluate the model's performance on unseen data.\n",
    "\n",
    "A common way to split the dataset is to use 80% of the data for training and 20% for testing. "
   ]
  },
  {
   "cell_type": "code",
   "execution_count": 268,
   "metadata": {},
   "outputs": [
    {
     "name": "stdout",
     "output_type": "stream",
     "text": [
      "331\n"
     ]
    }
   ],
   "source": [
    "n_training_samples = int(len(data)*0.8)\n",
    "print(n_training_samples)"
   ]
  },
  {
   "cell_type": "markdown",
   "metadata": {},
   "source": [
    "To ensure that the data is split randomly, we shuffle the dataset before splitting it."
   ]
  },
  {
   "cell_type": "code",
   "execution_count": 269,
   "metadata": {},
   "outputs": [],
   "source": [
    "permuted_indices = torch.randperm(len(data))\n",
    "training_indices = permuted_indices[:n_training_samples]\n",
    "test_indices = permuted_indices[n_training_samples:]"
   ]
  },
  {
   "cell_type": "markdown",
   "metadata": {},
   "source": [
    "Now we define the tensors for the features and the target for the training and test sets."
   ]
  },
  {
   "cell_type": "code",
   "execution_count": 270,
   "metadata": {},
   "outputs": [
    {
     "data": {
      "text/plain": [
       "(torch.Size([331, 5]),\n",
       " torch.Size([331, 1]),\n",
       " torch.Size([83, 5]),\n",
       " torch.Size([83, 1]))"
      ]
     },
     "execution_count": 270,
     "metadata": {},
     "output_type": "execute_result"
    }
   ],
   "source": [
    "x_train = torch.tensor(data[features].iloc[training_indices].values, dtype=torch.float32)\n",
    "y_train = torch.tensor(data['House price of unit area'].iloc[training_indices].values, dtype=torch.float32).view(n_training_samples,1) # we convert the training labels into a tensor\n",
    "x_test = torch.tensor(data[features].iloc[test_indices].values, dtype=torch.float32) # we convert the test features into a tensor\n",
    "y_test = torch.tensor(data['House price of unit area'].iloc[test_indices].values, dtype=torch.float32).view(len(test_indices),1) # we convert the test labels into a tensor\n",
    "x_train.shape, y_train.shape, x_test.shape, y_test.shape"
   ]
  },
  {
   "cell_type": "markdown",
   "metadata": {},
   "source": [
    "We can visually inspect the data by plotting the features against the target. To do this, we use the `matplotlib` library."
   ]
  },
  {
   "cell_type": "code",
   "execution_count": 271,
   "metadata": {},
   "outputs": [],
   "source": [
    "import matplotlib.pyplot as plt "
   ]
  },
  {
   "cell_type": "code",
   "execution_count": 272,
   "metadata": {},
   "outputs": [
    {
     "data": {
      "text/plain": [
       "<matplotlib.collections.PathCollection at 0x1521efaa0>"
      ]
     },
     "execution_count": 272,
     "metadata": {},
     "output_type": "execute_result"
    },
    {
     "data": {
      "image/png": "[encoded data removed]",
      "text/plain": [
       "<Figure size 640x480 with 1 Axes>"
      ]
     },
     "metadata": {},
     "output_type": "display_data"
    }
   ],
   "source": [
    "fig = plt.figure()\n",
    "ax = fig.add_subplot(111)\n",
    "j = 0 # changing this value will change the feature that is plotted on the x-axis\n",
    "ax.scatter(x_train[:,0], y_train) "
   ]
  },
  {
   "cell_type": "markdown",
   "metadata": {},
   "source": [
    "In the lecture we saw how to find the optimal weights and bias by solving a linear system of equations. In the following, we compute the matrix and the vector that define the linear system of equations."
   ]
  },
  {
   "cell_type": "code",
   "execution_count": 273,
   "metadata": {},
   "outputs": [
    {
     "data": {
      "text/plain": [
       "torch.Size([331, 6])"
      ]
     },
     "execution_count": 273,
     "metadata": {},
     "output_type": "execute_result"
    }
   ],
   "source": [
    "x_tilde = torch.cat((x_train, torch.ones(n_training_samples,1)), dim=1)\n",
    "x_tilde.shape"
   ]
  },
  {
   "cell_type": "code",
   "execution_count": 274,
   "metadata": {},
   "outputs": [],
   "source": [
    "A = 1/n_training_samples * x_tilde.t() @ x_tilde\n",
    "c = 1/n_training_samples * x_tilde.t() @ y_train"
   ]
  },
  {
   "cell_type": "code",
   "execution_count": 275,
   "metadata": {},
   "outputs": [
    {
     "data": {
      "text/plain": [
       "(torch.Size([6, 6]), torch.Size([6, 1]))"
      ]
     },
     "execution_count": 275,
     "metadata": {},
     "output_type": "execute_result"
    }
   ],
   "source": [
    "A.shape, c.shape"
   ]
  },
  {
   "cell_type": "markdown",
   "metadata": {},
   "source": [
    "We can solve the linear system of equations using the `torch` library."
   ]
  },
  {
   "cell_type": "code",
   "execution_count": 276,
   "metadata": {},
   "outputs": [
    {
     "data": {
      "text/plain": [
       "(tensor([[-9.3098e-03],\n",
       "         [-8.8339e-03],\n",
       "         [ 1.7870e+00],\n",
       "         [ 3.8130e+01],\n",
       "         [-8.1721e+01]]),\n",
       " tensor([9009.8340]))"
      ]
     },
     "execution_count": 276,
     "metadata": {},
     "output_type": "execute_result"
    }
   ],
   "source": [
    "solution = torch.linalg.solve(A,c)\n",
    "w = solution[:-1]\n",
    "b = solution[-1]\n",
    "w, b"
   ]
  },
  {
   "cell_type": "markdown",
   "metadata": {},
   "source": [
    "Here we have an example of prediction on the first observation of the test set."
   ]
  },
  {
   "cell_type": "code",
   "execution_count": 277,
   "metadata": {},
   "outputs": [
    {
     "data": {
      "text/plain": [
       "tensor([5.8701])"
      ]
     },
     "execution_count": 277,
     "metadata": {},
     "output_type": "execute_result"
    }
   ],
   "source": [
    "x_test[0] @ w + b"
   ]
  },
  {
   "cell_type": "markdown",
   "metadata": {},
   "source": [
    "We recall the definition of coefficient of determination $R^2$:\n",
    "$$\n",
    "R^2 = 1 - \\frac{\\sum_{i=0}^{N-1} (y_i - f(x_i;w,b))^2}{\\sum_{i=0}^{N-1} (y_i - \\bar{y})^2} \\, ,\n",
    "$$\n",
    "where $\\bar{y} = \\frac{1}{N} \\sum_{i=0}^{N-1} y_i$ is the mean of the target values. The coefficient of determination is a measure of how well the model performs compared to the mean of the target values. It is a number between 0 and 1. The closer to 1, the better the model. Let us compute it for the test set."
   ]
  },
  {
   "cell_type": "code",
   "execution_count": 278,
   "metadata": {},
   "outputs": [
    {
     "name": "stdout",
     "output_type": "stream",
     "text": [
      "R2 on train set: 0.5143718719482422\n",
      "R2 on test set: 0.5123792290687561\n"
     ]
    }
   ],
   "source": [
    "R2 = 1 - torch.sum((y_train - x_train @ w - b)**2) / torch.sum((y_train - y_train.mean())**2)\n",
    "print(f'R2 on train set: {R2}')\n",
    "R2 = 1 - torch.sum((y_test - x_test @ w - b)**2) / torch.sum((y_test - y_test.mean())**2)\n",
    "print(f'R2 on test set: {R2}')"
   ]
  }
 ],
 "metadata": {
  "kernelspec": {
   "display_name": ".venv",
   "language": "python",
   "name": "python3"
  },
  "language_info": {
   "codemirror_mode": {
    "name": "ipython",
    "version": 3
   },
   "file_extension": ".py",
   "mimetype": "text/x-python",
   "name": "python",
   "nbconvert_exporter": "python",
   "pygments_lexer": "ipython3",
   "version": "3.12.7"
  }
 },
 "nbformat": 4,
 "nbformat_minor": 2
}
