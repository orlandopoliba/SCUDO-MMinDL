{
 "cells": [
  {
   "cell_type": "markdown",
   "metadata": {},
   "source": [
    "# Seoul Bike Sharing Demand dataset\n",
    "\n",
    "In this notebook we explore the Seoul Bike Sharing Demand dataset, which is available on the UCI Machine Learning Repository. The dataset is available at the following link: https://archive.ics.uci.edu/ml/datasets/Seoul+Bike+Sharing+Demand."
   ]
  },
  {
   "cell_type": "markdown",
   "metadata": {},
   "source": [
    "Let us import the necessary libraries."
   ]
  },
  {
   "cell_type": "code",
   "execution_count": 2,
   "metadata": {},
   "outputs": [],
   "source": [
    "import pandas as pd\n",
    "import matplotlib.pyplot as plt\n",
    "import torch"
   ]
  },
  {
   "cell_type": "markdown",
   "metadata": {},
   "source": [
    "### Loading the dataset and data preprocessing"
   ]
  },
  {
   "cell_type": "code",
   "execution_count": 3,
   "metadata": {},
   "outputs": [],
   "source": [
    "bike_data = pd.read_csv('../datasets/SeoulBikeData.csv')"
   ]
  },
  {
   "cell_type": "markdown",
   "metadata": {},
   "source": [
    "Let us inspect the dataset."
   ]
  },
  {
   "cell_type": "markdown",
   "metadata": {},
   "source": [
    "The dataset contains the hourly count of bike rentals in Seoul Bike stations. The dataset has 8760 data points. For each data point, 14 features are provided."
   ]
  },
  {
   "cell_type": "code",
   "execution_count": 4,
   "metadata": {},
   "outputs": [
    {
     "name": "stdout",
     "output_type": "stream",
     "text": [
      "<class 'pandas.core.frame.DataFrame'>\n",
      "RangeIndex: 8760 entries, 0 to 8759\n",
      "Data columns (total 14 columns):\n",
      " #   Column                    Non-Null Count  Dtype  \n",
      "---  ------                    --------------  -----  \n",
      " 0   Date                      8760 non-null   object \n",
      " 1   Rented Bike Count         8760 non-null   int64  \n",
      " 2   Hour                      8760 non-null   int64  \n",
      " 3   Temperature(C)            8760 non-null   float64\n",
      " 4   Humidity(%)               8760 non-null   int64  \n",
      " 5   Wind speed (m/s)          8760 non-null   float64\n",
      " 6   Visibility (10m)          8760 non-null   int64  \n",
      " 7   Dew point temperature(C)  8760 non-null   float64\n",
      " 8   Solar Radiation (MJ/m2)   8760 non-null   float64\n",
      " 9   Rainfall(mm)              8760 non-null   float64\n",
      " 10  Snowfall (cm)             8760 non-null   float64\n",
      " 11  Seasons                   8760 non-null   object \n",
      " 12  Holiday                   8760 non-null   object \n",
      " 13  Functioning Day           8760 non-null   object \n",
      "dtypes: float64(6), int64(4), object(4)\n",
      "memory usage: 958.3+ KB\n"
     ]
    }
   ],
   "source": [
    "bike_data.info()"
   ]
  },
  {
   "cell_type": "code",
   "execution_count": 5,
   "metadata": {},
   "outputs": [
    {
     "data": {
      "text/html": [
       "<div>\n",
       "<style scoped>\n",
       "    .dataframe tbody tr th:only-of-type {\n",
       "        vertical-align: middle;\n",
       "    }\n",
       "\n",
       "    .dataframe tbody tr th {\n",
       "        vertical-align: top;\n",
       "    }\n",
       "\n",
       "    .dataframe thead th {\n",
       "        text-align: right;\n",
       "    }\n",
       "</style>\n",
       "<table border=\"1\" class=\"dataframe\">\n",
       "  <thead>\n",
       "    <tr style=\"text-align: right;\">\n",
       "      <th></th>\n",
       "      <th>Date</th>\n",
       "      <th>Rented Bike Count</th>\n",
       "      <th>Hour</th>\n",
       "      <th>Temperature(C)</th>\n",
       "      <th>Humidity(%)</th>\n",
       "      <th>Wind speed (m/s)</th>\n",
       "      <th>Visibility (10m)</th>\n",
       "      <th>Dew point temperature(C)</th>\n",
       "      <th>Solar Radiation (MJ/m2)</th>\n",
       "      <th>Rainfall(mm)</th>\n",
       "      <th>Snowfall (cm)</th>\n",
       "      <th>Seasons</th>\n",
       "      <th>Holiday</th>\n",
       "      <th>Functioning Day</th>\n",
       "    </tr>\n",
       "  </thead>\n",
       "  <tbody>\n",
       "    <tr>\n",
       "      <th>0</th>\n",
       "      <td>01/12/2017</td>\n",
       "      <td>254</td>\n",
       "      <td>0</td>\n",
       "      <td>-5.2</td>\n",
       "      <td>37</td>\n",
       "      <td>2.2</td>\n",
       "      <td>2000</td>\n",
       "      <td>-17.6</td>\n",
       "      <td>0.0</td>\n",
       "      <td>0.0</td>\n",
       "      <td>0.0</td>\n",
       "      <td>Winter</td>\n",
       "      <td>No Holiday</td>\n",
       "      <td>Yes</td>\n",
       "    </tr>\n",
       "    <tr>\n",
       "      <th>1</th>\n",
       "      <td>01/12/2017</td>\n",
       "      <td>204</td>\n",
       "      <td>1</td>\n",
       "      <td>-5.5</td>\n",
       "      <td>38</td>\n",
       "      <td>0.8</td>\n",
       "      <td>2000</td>\n",
       "      <td>-17.6</td>\n",
       "      <td>0.0</td>\n",
       "      <td>0.0</td>\n",
       "      <td>0.0</td>\n",
       "      <td>Winter</td>\n",
       "      <td>No Holiday</td>\n",
       "      <td>Yes</td>\n",
       "    </tr>\n",
       "    <tr>\n",
       "      <th>2</th>\n",
       "      <td>01/12/2017</td>\n",
       "      <td>173</td>\n",
       "      <td>2</td>\n",
       "      <td>-6.0</td>\n",
       "      <td>39</td>\n",
       "      <td>1.0</td>\n",
       "      <td>2000</td>\n",
       "      <td>-17.7</td>\n",
       "      <td>0.0</td>\n",
       "      <td>0.0</td>\n",
       "      <td>0.0</td>\n",
       "      <td>Winter</td>\n",
       "      <td>No Holiday</td>\n",
       "      <td>Yes</td>\n",
       "    </tr>\n",
       "    <tr>\n",
       "      <th>3</th>\n",
       "      <td>01/12/2017</td>\n",
       "      <td>107</td>\n",
       "      <td>3</td>\n",
       "      <td>-6.2</td>\n",
       "      <td>40</td>\n",
       "      <td>0.9</td>\n",
       "      <td>2000</td>\n",
       "      <td>-17.6</td>\n",
       "      <td>0.0</td>\n",
       "      <td>0.0</td>\n",
       "      <td>0.0</td>\n",
       "      <td>Winter</td>\n",
       "      <td>No Holiday</td>\n",
       "      <td>Yes</td>\n",
       "    </tr>\n",
       "    <tr>\n",
       "      <th>4</th>\n",
       "      <td>01/12/2017</td>\n",
       "      <td>78</td>\n",
       "      <td>4</td>\n",
       "      <td>-6.0</td>\n",
       "      <td>36</td>\n",
       "      <td>2.3</td>\n",
       "      <td>2000</td>\n",
       "      <td>-18.6</td>\n",
       "      <td>0.0</td>\n",
       "      <td>0.0</td>\n",
       "      <td>0.0</td>\n",
       "      <td>Winter</td>\n",
       "      <td>No Holiday</td>\n",
       "      <td>Yes</td>\n",
       "    </tr>\n",
       "  </tbody>\n",
       "</table>\n",
       "</div>"
      ],
      "text/plain": [
       "         Date  Rented Bike Count  Hour  Temperature(C)  Humidity(%)  \\\n",
       "0  01/12/2017                254     0            -5.2           37   \n",
       "1  01/12/2017                204     1            -5.5           38   \n",
       "2  01/12/2017                173     2            -6.0           39   \n",
       "3  01/12/2017                107     3            -6.2           40   \n",
       "4  01/12/2017                 78     4            -6.0           36   \n",
       "\n",
       "   Wind speed (m/s)  Visibility (10m)  Dew point temperature(C)  \\\n",
       "0               2.2              2000                     -17.6   \n",
       "1               0.8              2000                     -17.6   \n",
       "2               1.0              2000                     -17.7   \n",
       "3               0.9              2000                     -17.6   \n",
       "4               2.3              2000                     -18.6   \n",
       "\n",
       "   Solar Radiation (MJ/m2)  Rainfall(mm)  Snowfall (cm) Seasons     Holiday  \\\n",
       "0                      0.0           0.0            0.0  Winter  No Holiday   \n",
       "1                      0.0           0.0            0.0  Winter  No Holiday   \n",
       "2                      0.0           0.0            0.0  Winter  No Holiday   \n",
       "3                      0.0           0.0            0.0  Winter  No Holiday   \n",
       "4                      0.0           0.0            0.0  Winter  No Holiday   \n",
       "\n",
       "  Functioning Day  \n",
       "0             Yes  \n",
       "1             Yes  \n",
       "2             Yes  \n",
       "3             Yes  \n",
       "4             Yes  "
      ]
     },
     "execution_count": 5,
     "metadata": {},
     "output_type": "execute_result"
    }
   ],
   "source": [
    "bike_data.head()"
   ]
  },
  {
   "cell_type": "code",
   "execution_count": 6,
   "metadata": {},
   "outputs": [
    {
     "data": {
      "image/png": "[encoded data removed]",
      "text/plain": [
       "<Figure size 2000x1500 with 12 Axes>"
      ]
     },
     "metadata": {},
     "output_type": "display_data"
    }
   ],
   "source": [
    "_ = bike_data.hist(bins=50, figsize=(20,15))"
   ]
  },
  {
   "cell_type": "markdown",
   "metadata": {},
   "source": [
    "We notice that the data type of some data is not a numerical value, so we need to preprocess the data before we can use it for training a machine learning model."
   ]
  },
  {
   "cell_type": "markdown",
   "metadata": {},
   "source": [
    "First of all, we convert the date in the correct data type. "
   ]
  },
  {
   "cell_type": "code",
   "execution_count": 7,
   "metadata": {},
   "outputs": [],
   "source": [
    "bike_data['Date'] = pd.to_datetime(bike_data['Date'], format='%d/%m/%Y')"
   ]
  },
  {
   "cell_type": "markdown",
   "metadata": {},
   "source": [
    "Let us separate the date into year, month, day."
   ]
  },
  {
   "cell_type": "code",
   "execution_count": 8,
   "metadata": {},
   "outputs": [],
   "source": [
    "bike_data['Year'] = bike_data['Date'].dt.year\n",
    "bike_data['Month'] = bike_data['Date'].dt.month\n",
    "bike_data['DayOfMonth'] = bike_data['Date'].dt.day\n",
    "bike_data['DayOfWeek'] = bike_data['Date'].dt.dayofweek"
   ]
  },
  {
   "cell_type": "markdown",
   "metadata": {},
   "source": [
    "It is convenient to preprocess these columns to include the cyclical nature of time. For example, the month of December is closer to January than to July. We can encode this by using the sine and cosine functions to transform the month and day columns into two dimensions. The same can be done for the hour of the day."
   ]
  },
  {
   "cell_type": "code",
   "execution_count": 9,
   "metadata": {},
   "outputs": [],
   "source": [
    "bike_data['Month-sin'] = torch.sin(2 * torch.tensor(bike_data['Month']) * torch.pi / 12)\n",
    "bike_data['Month-cos'] = torch.cos(2 * torch.tensor(bike_data['Month']) * torch.pi / 12)\n",
    "bike_data['DayOfMonth-sin'] = torch.sin(2 * torch.tensor(bike_data['DayOfMonth']) * torch.pi / 31)\n",
    "bike_data['DayOfMonth-cos'] = torch.cos(2 * torch.tensor(bike_data['DayOfMonth']) * torch.pi / 31)\n",
    "bike_data['DayOfWeek-sin'] = torch.sin(2 * torch.tensor(bike_data['DayOfWeek']) * torch.pi / 7)\n",
    "bike_data['DayOfWeek-cos'] = torch.cos(2 * torch.tensor(bike_data['DayOfWeek']) * torch.pi / 7)\n",
    "bike_data['Hour-sin'] = torch.sin(2 * torch.tensor(bike_data['Hour']) * torch.pi / 24)\n",
    "bike_data['Hour-cos'] = torch.cos(2 * torch.tensor(bike_data['Hour']) * torch.pi / 24)"
   ]
  },
  {
   "cell_type": "markdown",
   "metadata": {},
   "source": [
    "To understand this, let us plot the points on a circle."
   ]
  },
  {
   "cell_type": "code",
   "execution_count": 10,
   "metadata": {},
   "outputs": [
    {
     "data": {
      "image/png": "[encoded data removed]",
      "text/plain": [
       "<Figure size 1000x1000 with 4 Axes>"
      ]
     },
     "metadata": {},
     "output_type": "display_data"
    }
   ],
   "source": [
    "fig = plt.figure(figsize=(10, 10))\n",
    "for i, key in enumerate(['Month', 'DayOfMonth', 'DayOfWeek', 'Hour']):\n",
    "    ax = fig.add_subplot(2,2,i+1)\n",
    "    ax.plot(bike_data[key+'-cos'], bike_data[key+'-sin'], 'o')\n",
    "    ax.set_aspect('equal')\n",
    "    ax.set_title(key)"
   ]
  },
  {
   "cell_type": "markdown",
   "metadata": {},
   "source": [
    "We can drop the original columns (they would be redundant)."
   ]
  },
  {
   "cell_type": "code",
   "execution_count": 11,
   "metadata": {},
   "outputs": [],
   "source": [
    "bike_data.drop(['Date', 'Hour', 'Month', 'DayOfMonth', 'DayOfWeek'], axis=1, inplace=True)"
   ]
  },
  {
   "cell_type": "markdown",
   "metadata": {},
   "source": [
    "We can do the same for seasons. First we need to convert the season column to numbers."
   ]
  },
  {
   "cell_type": "code",
   "execution_count": 12,
   "metadata": {},
   "outputs": [],
   "source": [
    "seasons = bike_data['Seasons'].unique().tolist()"
   ]
  },
  {
   "cell_type": "code",
   "execution_count": 13,
   "metadata": {},
   "outputs": [],
   "source": [
    "def season_to_int(season):\n",
    "    return seasons.index(season)\n",
    "bike_data['Seasons'] = bike_data['Seasons'].apply(season_to_int)"
   ]
  },
  {
   "cell_type": "code",
   "execution_count": 14,
   "metadata": {},
   "outputs": [
    {
     "data": {
      "text/html": [
       "<div>\n",
       "<style scoped>\n",
       "    .dataframe tbody tr th:only-of-type {\n",
       "        vertical-align: middle;\n",
       "    }\n",
       "\n",
       "    .dataframe tbody tr th {\n",
       "        vertical-align: top;\n",
       "    }\n",
       "\n",
       "    .dataframe thead th {\n",
       "        text-align: right;\n",
       "    }\n",
       "</style>\n",
       "<table border=\"1\" class=\"dataframe\">\n",
       "  <thead>\n",
       "    <tr style=\"text-align: right;\">\n",
       "      <th></th>\n",
       "      <th>Rented Bike Count</th>\n",
       "      <th>Temperature(C)</th>\n",
       "      <th>Humidity(%)</th>\n",
       "      <th>Wind speed (m/s)</th>\n",
       "      <th>Visibility (10m)</th>\n",
       "      <th>Dew point temperature(C)</th>\n",
       "      <th>Solar Radiation (MJ/m2)</th>\n",
       "      <th>Rainfall(mm)</th>\n",
       "      <th>Snowfall (cm)</th>\n",
       "      <th>Seasons</th>\n",
       "      <th>...</th>\n",
       "      <th>Functioning Day</th>\n",
       "      <th>Year</th>\n",
       "      <th>Month-sin</th>\n",
       "      <th>Month-cos</th>\n",
       "      <th>DayOfMonth-sin</th>\n",
       "      <th>DayOfMonth-cos</th>\n",
       "      <th>DayOfWeek-sin</th>\n",
       "      <th>DayOfWeek-cos</th>\n",
       "      <th>Hour-sin</th>\n",
       "      <th>Hour-cos</th>\n",
       "    </tr>\n",
       "  </thead>\n",
       "  <tbody>\n",
       "    <tr>\n",
       "      <th>0</th>\n",
       "      <td>254</td>\n",
       "      <td>-5.2</td>\n",
       "      <td>37</td>\n",
       "      <td>2.2</td>\n",
       "      <td>2000</td>\n",
       "      <td>-17.6</td>\n",
       "      <td>0.0</td>\n",
       "      <td>0.0</td>\n",
       "      <td>0.0</td>\n",
       "      <td>0</td>\n",
       "      <td>...</td>\n",
       "      <td>Yes</td>\n",
       "      <td>2017</td>\n",
       "      <td>1.748456e-07</td>\n",
       "      <td>1.0</td>\n",
       "      <td>0.201299</td>\n",
       "      <td>0.97953</td>\n",
       "      <td>-0.433884</td>\n",
       "      <td>-0.900969</td>\n",
       "      <td>0.000000</td>\n",
       "      <td>1.000000</td>\n",
       "    </tr>\n",
       "    <tr>\n",
       "      <th>1</th>\n",
       "      <td>204</td>\n",
       "      <td>-5.5</td>\n",
       "      <td>38</td>\n",
       "      <td>0.8</td>\n",
       "      <td>2000</td>\n",
       "      <td>-17.6</td>\n",
       "      <td>0.0</td>\n",
       "      <td>0.0</td>\n",
       "      <td>0.0</td>\n",
       "      <td>0</td>\n",
       "      <td>...</td>\n",
       "      <td>Yes</td>\n",
       "      <td>2017</td>\n",
       "      <td>1.748456e-07</td>\n",
       "      <td>1.0</td>\n",
       "      <td>0.201299</td>\n",
       "      <td>0.97953</td>\n",
       "      <td>-0.433884</td>\n",
       "      <td>-0.900969</td>\n",
       "      <td>0.258819</td>\n",
       "      <td>0.965926</td>\n",
       "    </tr>\n",
       "    <tr>\n",
       "      <th>2</th>\n",
       "      <td>173</td>\n",
       "      <td>-6.0</td>\n",
       "      <td>39</td>\n",
       "      <td>1.0</td>\n",
       "      <td>2000</td>\n",
       "      <td>-17.7</td>\n",
       "      <td>0.0</td>\n",
       "      <td>0.0</td>\n",
       "      <td>0.0</td>\n",
       "      <td>0</td>\n",
       "      <td>...</td>\n",
       "      <td>Yes</td>\n",
       "      <td>2017</td>\n",
       "      <td>1.748456e-07</td>\n",
       "      <td>1.0</td>\n",
       "      <td>0.201299</td>\n",
       "      <td>0.97953</td>\n",
       "      <td>-0.433884</td>\n",
       "      <td>-0.900969</td>\n",
       "      <td>0.500000</td>\n",
       "      <td>0.866025</td>\n",
       "    </tr>\n",
       "    <tr>\n",
       "      <th>3</th>\n",
       "      <td>107</td>\n",
       "      <td>-6.2</td>\n",
       "      <td>40</td>\n",
       "      <td>0.9</td>\n",
       "      <td>2000</td>\n",
       "      <td>-17.6</td>\n",
       "      <td>0.0</td>\n",
       "      <td>0.0</td>\n",
       "      <td>0.0</td>\n",
       "      <td>0</td>\n",
       "      <td>...</td>\n",
       "      <td>Yes</td>\n",
       "      <td>2017</td>\n",
       "      <td>1.748456e-07</td>\n",
       "      <td>1.0</td>\n",
       "      <td>0.201299</td>\n",
       "      <td>0.97953</td>\n",
       "      <td>-0.433884</td>\n",
       "      <td>-0.900969</td>\n",
       "      <td>0.707107</td>\n",
       "      <td>0.707107</td>\n",
       "    </tr>\n",
       "    <tr>\n",
       "      <th>4</th>\n",
       "      <td>78</td>\n",
       "      <td>-6.0</td>\n",
       "      <td>36</td>\n",
       "      <td>2.3</td>\n",
       "      <td>2000</td>\n",
       "      <td>-18.6</td>\n",
       "      <td>0.0</td>\n",
       "      <td>0.0</td>\n",
       "      <td>0.0</td>\n",
       "      <td>0</td>\n",
       "      <td>...</td>\n",
       "      <td>Yes</td>\n",
       "      <td>2017</td>\n",
       "      <td>1.748456e-07</td>\n",
       "      <td>1.0</td>\n",
       "      <td>0.201299</td>\n",
       "      <td>0.97953</td>\n",
       "      <td>-0.433884</td>\n",
       "      <td>-0.900969</td>\n",
       "      <td>0.866025</td>\n",
       "      <td>0.500000</td>\n",
       "    </tr>\n",
       "  </tbody>\n",
       "</table>\n",
       "<p>5 rows × 21 columns</p>\n",
       "</div>"
      ],
      "text/plain": [
       "   Rented Bike Count  Temperature(C)  Humidity(%)  Wind speed (m/s)  \\\n",
       "0                254            -5.2           37               2.2   \n",
       "1                204            -5.5           38               0.8   \n",
       "2                173            -6.0           39               1.0   \n",
       "3                107            -6.2           40               0.9   \n",
       "4                 78            -6.0           36               2.3   \n",
       "\n",
       "   Visibility (10m)  Dew point temperature(C)  Solar Radiation (MJ/m2)  \\\n",
       "0              2000                     -17.6                      0.0   \n",
       "1              2000                     -17.6                      0.0   \n",
       "2              2000                     -17.7                      0.0   \n",
       "3              2000                     -17.6                      0.0   \n",
       "4              2000                     -18.6                      0.0   \n",
       "\n",
       "   Rainfall(mm)  Snowfall (cm)  Seasons  ... Functioning Day  Year  \\\n",
       "0           0.0            0.0        0  ...             Yes  2017   \n",
       "1           0.0            0.0        0  ...             Yes  2017   \n",
       "2           0.0            0.0        0  ...             Yes  2017   \n",
       "3           0.0            0.0        0  ...             Yes  2017   \n",
       "4           0.0            0.0        0  ...             Yes  2017   \n",
       "\n",
       "      Month-sin  Month-cos  DayOfMonth-sin  DayOfMonth-cos  DayOfWeek-sin  \\\n",
       "0  1.748456e-07        1.0        0.201299         0.97953      -0.433884   \n",
       "1  1.748456e-07        1.0        0.201299         0.97953      -0.433884   \n",
       "2  1.748456e-07        1.0        0.201299         0.97953      -0.433884   \n",
       "3  1.748456e-07        1.0        0.201299         0.97953      -0.433884   \n",
       "4  1.748456e-07        1.0        0.201299         0.97953      -0.433884   \n",
       "\n",
       "   DayOfWeek-cos  Hour-sin  Hour-cos  \n",
       "0      -0.900969  0.000000  1.000000  \n",
       "1      -0.900969  0.258819  0.965926  \n",
       "2      -0.900969  0.500000  0.866025  \n",
       "3      -0.900969  0.707107  0.707107  \n",
       "4      -0.900969  0.866025  0.500000  \n",
       "\n",
       "[5 rows x 21 columns]"
      ]
     },
     "execution_count": 14,
     "metadata": {},
     "output_type": "execute_result"
    }
   ],
   "source": [
    "bike_data.head()"
   ]
  },
  {
   "cell_type": "code",
   "execution_count": 15,
   "metadata": {},
   "outputs": [],
   "source": [
    "bike_data['Seasons-cos'] = torch.cos(2 * torch.tensor(bike_data['Seasons']) * torch.pi / 4)\n",
    "bike_data['Seasons-sin'] = torch.sin(2 * torch.tensor(bike_data['Seasons']) * torch.pi / 4)\n",
    "bike_data.drop('Seasons', axis=1, inplace=True)"
   ]
  },
  {
   "cell_type": "markdown",
   "metadata": {},
   "source": [
    "Finally, we convert the categorical columns into numerical values using one-hot encoding."
   ]
  },
  {
   "cell_type": "code",
   "execution_count": 16,
   "metadata": {},
   "outputs": [
    {
     "data": {
      "text/plain": [
       "array(['No Holiday', 'Holiday'], dtype=object)"
      ]
     },
     "execution_count": 16,
     "metadata": {},
     "output_type": "execute_result"
    }
   ],
   "source": [
    "bike_data['Holiday'].unique()"
   ]
  },
  {
   "cell_type": "code",
   "execution_count": 17,
   "metadata": {},
   "outputs": [],
   "source": [
    "def holiday_to_int(holiday):\n",
    "  if holiday == 'No Holiday':\n",
    "    return 0\n",
    "  elif holiday == 'Holiday':\n",
    "    return 1\n",
    "bike_data['Holiday'] = bike_data['Holiday'].apply(holiday_to_int)"
   ]
  },
  {
   "cell_type": "code",
   "execution_count": 18,
   "metadata": {},
   "outputs": [
    {
     "data": {
      "text/plain": [
       "array(['Yes', 'No'], dtype=object)"
      ]
     },
     "execution_count": 18,
     "metadata": {},
     "output_type": "execute_result"
    }
   ],
   "source": [
    "bike_data['Functioning Day'].unique()"
   ]
  },
  {
   "cell_type": "code",
   "execution_count": 19,
   "metadata": {},
   "outputs": [],
   "source": [
    "def functioning_day_to_int(functioning_day):\n",
    "  if functioning_day == 'No':\n",
    "    return 0\n",
    "  elif functioning_day == 'Yes':\n",
    "    return 1\n",
    "bike_data['Functioning Day'] = bike_data['Functioning Day'].apply(functioning_day_to_int)"
   ]
  },
  {
   "cell_type": "markdown",
   "metadata": {},
   "source": [
    "Now all the columns are numerical values. "
   ]
  },
  {
   "cell_type": "code",
   "execution_count": 20,
   "metadata": {},
   "outputs": [
    {
     "name": "stdout",
     "output_type": "stream",
     "text": [
      "<class 'pandas.core.frame.DataFrame'>\n",
      "RangeIndex: 8760 entries, 0 to 8759\n",
      "Data columns (total 22 columns):\n",
      " #   Column                    Non-Null Count  Dtype  \n",
      "---  ------                    --------------  -----  \n",
      " 0   Rented Bike Count         8760 non-null   int64  \n",
      " 1   Temperature(C)            8760 non-null   float64\n",
      " 2   Humidity(%)               8760 non-null   int64  \n",
      " 3   Wind speed (m/s)          8760 non-null   float64\n",
      " 4   Visibility (10m)          8760 non-null   int64  \n",
      " 5   Dew point temperature(C)  8760 non-null   float64\n",
      " 6   Solar Radiation (MJ/m2)   8760 non-null   float64\n",
      " 7   Rainfall(mm)              8760 non-null   float64\n",
      " 8   Snowfall (cm)             8760 non-null   float64\n",
      " 9   Holiday                   8760 non-null   int64  \n",
      " 10  Functioning Day           8760 non-null   int64  \n",
      " 11  Year                      8760 non-null   int32  \n",
      " 12  Month-sin                 8760 non-null   float32\n",
      " 13  Month-cos                 8760 non-null   float32\n",
      " 14  DayOfMonth-sin            8760 non-null   float32\n",
      " 15  DayOfMonth-cos            8760 non-null   float32\n",
      " 16  DayOfWeek-sin             8760 non-null   float32\n",
      " 17  DayOfWeek-cos             8760 non-null   float32\n",
      " 18  Hour-sin                  8760 non-null   float32\n",
      " 19  Hour-cos                  8760 non-null   float32\n",
      " 20  Seasons-cos               8760 non-null   float32\n",
      " 21  Seasons-sin               8760 non-null   float32\n",
      "dtypes: float32(10), float64(6), int32(1), int64(5)\n",
      "memory usage: 1.1 MB\n"
     ]
    }
   ],
   "source": [
    "bike_data.info()"
   ]
  },
  {
   "cell_type": "markdown",
   "metadata": {},
   "source": [
    "We convert all numbers to float32."
   ]
  },
  {
   "cell_type": "code",
   "execution_count": 21,
   "metadata": {},
   "outputs": [],
   "source": [
    "bike_data = bike_data.astype('float32')"
   ]
  },
  {
   "cell_type": "code",
   "execution_count": 22,
   "metadata": {},
   "outputs": [
    {
     "name": "stdout",
     "output_type": "stream",
     "text": [
      "<class 'pandas.core.frame.DataFrame'>\n",
      "RangeIndex: 8760 entries, 0 to 8759\n",
      "Data columns (total 22 columns):\n",
      " #   Column                    Non-Null Count  Dtype  \n",
      "---  ------                    --------------  -----  \n",
      " 0   Rented Bike Count         8760 non-null   float32\n",
      " 1   Temperature(C)            8760 non-null   float32\n",
      " 2   Humidity(%)               8760 non-null   float32\n",
      " 3   Wind speed (m/s)          8760 non-null   float32\n",
      " 4   Visibility (10m)          8760 non-null   float32\n",
      " 5   Dew point temperature(C)  8760 non-null   float32\n",
      " 6   Solar Radiation (MJ/m2)   8760 non-null   float32\n",
      " 7   Rainfall(mm)              8760 non-null   float32\n",
      " 8   Snowfall (cm)             8760 non-null   float32\n",
      " 9   Holiday                   8760 non-null   float32\n",
      " 10  Functioning Day           8760 non-null   float32\n",
      " 11  Year                      8760 non-null   float32\n",
      " 12  Month-sin                 8760 non-null   float32\n",
      " 13  Month-cos                 8760 non-null   float32\n",
      " 14  DayOfMonth-sin            8760 non-null   float32\n",
      " 15  DayOfMonth-cos            8760 non-null   float32\n",
      " 16  DayOfWeek-sin             8760 non-null   float32\n",
      " 17  DayOfWeek-cos             8760 non-null   float32\n",
      " 18  Hour-sin                  8760 non-null   float32\n",
      " 19  Hour-cos                  8760 non-null   float32\n",
      " 20  Seasons-cos               8760 non-null   float32\n",
      " 21  Seasons-sin               8760 non-null   float32\n",
      "dtypes: float32(22)\n",
      "memory usage: 752.9 KB\n"
     ]
    }
   ],
   "source": [
    "bike_data.info()"
   ]
  },
  {
   "cell_type": "code",
   "execution_count": 23,
   "metadata": {},
   "outputs": [
    {
     "data": {
      "text/html": [
       "<div>\n",
       "<style scoped>\n",
       "    .dataframe tbody tr th:only-of-type {\n",
       "        vertical-align: middle;\n",
       "    }\n",
       "\n",
       "    .dataframe tbody tr th {\n",
       "        vertical-align: top;\n",
       "    }\n",
       "\n",
       "    .dataframe thead th {\n",
       "        text-align: right;\n",
       "    }\n",
       "</style>\n",
       "<table border=\"1\" class=\"dataframe\">\n",
       "  <thead>\n",
       "    <tr style=\"text-align: right;\">\n",
       "      <th></th>\n",
       "      <th>Rented Bike Count</th>\n",
       "      <th>Temperature(C)</th>\n",
       "      <th>Humidity(%)</th>\n",
       "      <th>Wind speed (m/s)</th>\n",
       "      <th>Visibility (10m)</th>\n",
       "      <th>Dew point temperature(C)</th>\n",
       "      <th>Solar Radiation (MJ/m2)</th>\n",
       "      <th>Rainfall(mm)</th>\n",
       "      <th>Snowfall (cm)</th>\n",
       "      <th>Holiday</th>\n",
       "      <th>...</th>\n",
       "      <th>Month-sin</th>\n",
       "      <th>Month-cos</th>\n",
       "      <th>DayOfMonth-sin</th>\n",
       "      <th>DayOfMonth-cos</th>\n",
       "      <th>DayOfWeek-sin</th>\n",
       "      <th>DayOfWeek-cos</th>\n",
       "      <th>Hour-sin</th>\n",
       "      <th>Hour-cos</th>\n",
       "      <th>Seasons-cos</th>\n",
       "      <th>Seasons-sin</th>\n",
       "    </tr>\n",
       "  </thead>\n",
       "  <tbody>\n",
       "    <tr>\n",
       "      <th>count</th>\n",
       "      <td>8760.000000</td>\n",
       "      <td>8760.000000</td>\n",
       "      <td>8760.000000</td>\n",
       "      <td>8760.000000</td>\n",
       "      <td>8760.000000</td>\n",
       "      <td>8760.000000</td>\n",
       "      <td>8760.000000</td>\n",
       "      <td>8760.000000</td>\n",
       "      <td>8760.000000</td>\n",
       "      <td>8760.000000</td>\n",
       "      <td>...</td>\n",
       "      <td>8.760000e+03</td>\n",
       "      <td>8.760000e+03</td>\n",
       "      <td>8.760000e+03</td>\n",
       "      <td>8760.000000</td>\n",
       "      <td>8760.000000</td>\n",
       "      <td>8760.000000</td>\n",
       "      <td>8.760000e+03</td>\n",
       "      <td>8.760000e+03</td>\n",
       "      <td>8.760000e+03</td>\n",
       "      <td>8.760000e+03</td>\n",
       "    </tr>\n",
       "    <tr>\n",
       "      <th>mean</th>\n",
       "      <td>704.602051</td>\n",
       "      <td>12.882922</td>\n",
       "      <td>58.226257</td>\n",
       "      <td>1.724909</td>\n",
       "      <td>1436.825806</td>\n",
       "      <td>4.073813</td>\n",
       "      <td>0.569111</td>\n",
       "      <td>0.148687</td>\n",
       "      <td>0.075068</td>\n",
       "      <td>0.049315</td>\n",
       "      <td>...</td>\n",
       "      <td>-5.381085e-03</td>\n",
       "      <td>-2.372672e-03</td>\n",
       "      <td>1.631926e-03</td>\n",
       "      <td>-0.018900</td>\n",
       "      <td>-0.001189</td>\n",
       "      <td>-0.002468</td>\n",
       "      <td>-5.062312e-09</td>\n",
       "      <td>1.491477e-08</td>\n",
       "      <td>-5.479451e-03</td>\n",
       "      <td>2.739712e-03</td>\n",
       "    </tr>\n",
       "    <tr>\n",
       "      <th>std</th>\n",
       "      <td>644.997437</td>\n",
       "      <td>11.944825</td>\n",
       "      <td>20.362413</td>\n",
       "      <td>1.036300</td>\n",
       "      <td>608.298706</td>\n",
       "      <td>13.060369</td>\n",
       "      <td>0.868746</td>\n",
       "      <td>1.128193</td>\n",
       "      <td>0.436746</td>\n",
       "      <td>0.216537</td>\n",
       "      <td>...</td>\n",
       "      <td>7.056721e-01</td>\n",
       "      <td>7.085948e-01</td>\n",
       "      <td>7.135176e-01</td>\n",
       "      <td>0.700462</td>\n",
       "      <td>0.706542</td>\n",
       "      <td>0.707747</td>\n",
       "      <td>7.071471e-01</td>\n",
       "      <td>7.071472e-01</td>\n",
       "      <td>7.061566e-01</td>\n",
       "      <td>7.081099e-01</td>\n",
       "    </tr>\n",
       "    <tr>\n",
       "      <th>min</th>\n",
       "      <td>0.000000</td>\n",
       "      <td>-17.799999</td>\n",
       "      <td>0.000000</td>\n",
       "      <td>0.000000</td>\n",
       "      <td>27.000000</td>\n",
       "      <td>-30.600000</td>\n",
       "      <td>0.000000</td>\n",
       "      <td>0.000000</td>\n",
       "      <td>0.000000</td>\n",
       "      <td>0.000000</td>\n",
       "      <td>...</td>\n",
       "      <td>-1.000000e+00</td>\n",
       "      <td>-1.000000e+00</td>\n",
       "      <td>-9.987165e-01</td>\n",
       "      <td>-0.994869</td>\n",
       "      <td>-0.974928</td>\n",
       "      <td>-0.900969</td>\n",
       "      <td>-1.000000e+00</td>\n",
       "      <td>-1.000000e+00</td>\n",
       "      <td>-1.000000e+00</td>\n",
       "      <td>-1.000000e+00</td>\n",
       "    </tr>\n",
       "    <tr>\n",
       "      <th>25%</th>\n",
       "      <td>191.000000</td>\n",
       "      <td>3.500000</td>\n",
       "      <td>42.000000</td>\n",
       "      <td>0.900000</td>\n",
       "      <td>940.000000</td>\n",
       "      <td>-4.700000</td>\n",
       "      <td>0.000000</td>\n",
       "      <td>0.000000</td>\n",
       "      <td>0.000000</td>\n",
       "      <td>0.000000</td>\n",
       "      <td>...</td>\n",
       "      <td>-8.660252e-01</td>\n",
       "      <td>-8.660253e-01</td>\n",
       "      <td>-7.247925e-01</td>\n",
       "      <td>-0.758758</td>\n",
       "      <td>-0.781832</td>\n",
       "      <td>-0.900969</td>\n",
       "      <td>-7.071066e-01</td>\n",
       "      <td>-7.071068e-01</td>\n",
       "      <td>-1.000000e+00</td>\n",
       "      <td>-8.742278e-08</td>\n",
       "    </tr>\n",
       "    <tr>\n",
       "      <th>50%</th>\n",
       "      <td>504.500000</td>\n",
       "      <td>13.700000</td>\n",
       "      <td>57.000000</td>\n",
       "      <td>1.500000</td>\n",
       "      <td>1698.000000</td>\n",
       "      <td>5.100000</td>\n",
       "      <td>0.010000</td>\n",
       "      <td>0.000000</td>\n",
       "      <td>0.000000</td>\n",
       "      <td>0.000000</td>\n",
       "      <td>...</td>\n",
       "      <td>-8.742278e-08</td>\n",
       "      <td>-4.371139e-08</td>\n",
       "      <td>1.748456e-07</td>\n",
       "      <td>-0.050649</td>\n",
       "      <td>0.000000</td>\n",
       "      <td>-0.222521</td>\n",
       "      <td>-4.371139e-08</td>\n",
       "      <td>-1.589325e-08</td>\n",
       "      <td>-4.371139e-08</td>\n",
       "      <td>-8.742278e-08</td>\n",
       "    </tr>\n",
       "    <tr>\n",
       "      <th>75%</th>\n",
       "      <td>1065.250000</td>\n",
       "      <td>22.500000</td>\n",
       "      <td>74.000000</td>\n",
       "      <td>2.300000</td>\n",
       "      <td>2000.000000</td>\n",
       "      <td>14.800000</td>\n",
       "      <td>0.930000</td>\n",
       "      <td>0.000000</td>\n",
       "      <td>0.000000</td>\n",
       "      <td>0.000000</td>\n",
       "      <td>...</td>\n",
       "      <td>5.000000e-01</td>\n",
       "      <td>8.660254e-01</td>\n",
       "      <td>7.247928e-01</td>\n",
       "      <td>0.688967</td>\n",
       "      <td>0.781832</td>\n",
       "      <td>0.623490</td>\n",
       "      <td>7.071068e-01</td>\n",
       "      <td>7.071068e-01</td>\n",
       "      <td>1.192488e-08</td>\n",
       "      <td>1.000000e+00</td>\n",
       "    </tr>\n",
       "    <tr>\n",
       "      <th>max</th>\n",
       "      <td>3556.000000</td>\n",
       "      <td>39.400002</td>\n",
       "      <td>98.000000</td>\n",
       "      <td>7.400000</td>\n",
       "      <td>2000.000000</td>\n",
       "      <td>27.200001</td>\n",
       "      <td>3.520000</td>\n",
       "      <td>35.000000</td>\n",
       "      <td>8.800000</td>\n",
       "      <td>1.000000</td>\n",
       "      <td>...</td>\n",
       "      <td>1.000000e+00</td>\n",
       "      <td>1.000000e+00</td>\n",
       "      <td>9.987165e-01</td>\n",
       "      <td>1.000000</td>\n",
       "      <td>0.974928</td>\n",
       "      <td>1.000000</td>\n",
       "      <td>1.000000e+00</td>\n",
       "      <td>1.000000e+00</td>\n",
       "      <td>1.000000e+00</td>\n",
       "      <td>1.000000e+00</td>\n",
       "    </tr>\n",
       "  </tbody>\n",
       "</table>\n",
       "<p>8 rows × 22 columns</p>\n",
       "</div>"
      ],
      "text/plain": [
       "       Rented Bike Count  Temperature(C)  Humidity(%)  Wind speed (m/s)  \\\n",
       "count        8760.000000     8760.000000  8760.000000       8760.000000   \n",
       "mean          704.602051       12.882922    58.226257          1.724909   \n",
       "std           644.997437       11.944825    20.362413          1.036300   \n",
       "min             0.000000      -17.799999     0.000000          0.000000   \n",
       "25%           191.000000        3.500000    42.000000          0.900000   \n",
       "50%           504.500000       13.700000    57.000000          1.500000   \n",
       "75%          1065.250000       22.500000    74.000000          2.300000   \n",
       "max          3556.000000       39.400002    98.000000          7.400000   \n",
       "\n",
       "       Visibility (10m)  Dew point temperature(C)  Solar Radiation (MJ/m2)  \\\n",
       "count       8760.000000               8760.000000              8760.000000   \n",
       "mean        1436.825806                  4.073813                 0.569111   \n",
       "std          608.298706                 13.060369                 0.868746   \n",
       "min           27.000000                -30.600000                 0.000000   \n",
       "25%          940.000000                 -4.700000                 0.000000   \n",
       "50%         1698.000000                  5.100000                 0.010000   \n",
       "75%         2000.000000                 14.800000                 0.930000   \n",
       "max         2000.000000                 27.200001                 3.520000   \n",
       "\n",
       "       Rainfall(mm)  Snowfall (cm)      Holiday  ...     Month-sin  \\\n",
       "count   8760.000000    8760.000000  8760.000000  ...  8.760000e+03   \n",
       "mean       0.148687       0.075068     0.049315  ... -5.381085e-03   \n",
       "std        1.128193       0.436746     0.216537  ...  7.056721e-01   \n",
       "min        0.000000       0.000000     0.000000  ... -1.000000e+00   \n",
       "25%        0.000000       0.000000     0.000000  ... -8.660252e-01   \n",
       "50%        0.000000       0.000000     0.000000  ... -8.742278e-08   \n",
       "75%        0.000000       0.000000     0.000000  ...  5.000000e-01   \n",
       "max       35.000000       8.800000     1.000000  ...  1.000000e+00   \n",
       "\n",
       "          Month-cos  DayOfMonth-sin  DayOfMonth-cos  DayOfWeek-sin  \\\n",
       "count  8.760000e+03    8.760000e+03     8760.000000    8760.000000   \n",
       "mean  -2.372672e-03    1.631926e-03       -0.018900      -0.001189   \n",
       "std    7.085948e-01    7.135176e-01        0.700462       0.706542   \n",
       "min   -1.000000e+00   -9.987165e-01       -0.994869      -0.974928   \n",
       "25%   -8.660253e-01   -7.247925e-01       -0.758758      -0.781832   \n",
       "50%   -4.371139e-08    1.748456e-07       -0.050649       0.000000   \n",
       "75%    8.660254e-01    7.247928e-01        0.688967       0.781832   \n",
       "max    1.000000e+00    9.987165e-01        1.000000       0.974928   \n",
       "\n",
       "       DayOfWeek-cos      Hour-sin      Hour-cos   Seasons-cos   Seasons-sin  \n",
       "count    8760.000000  8.760000e+03  8.760000e+03  8.760000e+03  8.760000e+03  \n",
       "mean       -0.002468 -5.062312e-09  1.491477e-08 -5.479451e-03  2.739712e-03  \n",
       "std         0.707747  7.071471e-01  7.071472e-01  7.061566e-01  7.081099e-01  \n",
       "min        -0.900969 -1.000000e+00 -1.000000e+00 -1.000000e+00 -1.000000e+00  \n",
       "25%        -0.900969 -7.071066e-01 -7.071068e-01 -1.000000e+00 -8.742278e-08  \n",
       "50%        -0.222521 -4.371139e-08 -1.589325e-08 -4.371139e-08 -8.742278e-08  \n",
       "75%         0.623490  7.071068e-01  7.071068e-01  1.192488e-08  1.000000e+00  \n",
       "max         1.000000  1.000000e+00  1.000000e+00  1.000000e+00  1.000000e+00  \n",
       "\n",
       "[8 rows x 22 columns]"
      ]
     },
     "execution_count": 23,
     "metadata": {},
     "output_type": "execute_result"
    }
   ],
   "source": [
    "bike_data.describe()"
   ]
  },
  {
   "cell_type": "markdown",
   "metadata": {},
   "source": [
    "We split the data into training and testing sets."
   ]
  },
  {
   "cell_type": "code",
   "execution_count": 24,
   "metadata": {},
   "outputs": [],
   "source": [
    "torch.manual_seed(42)\n",
    "shuffled_indices = torch.randperm(len(bike_data))\n",
    "train_indices = shuffled_indices[:int(0.8*len(bike_data))]\n",
    "test_indices = shuffled_indices[int(0.8*len(bike_data)):]\n",
    "bike_data_train = bike_data.iloc[train_indices].copy()\n",
    "bike_data_test = bike_data.iloc[test_indices].copy()"
   ]
  },
  {
   "cell_type": "markdown",
   "metadata": {},
   "source": [
    "Before training the model, we scale the data. We do this on the training set and apply the same transformation to the testing set (because we should not assume that we know the mean and standard deviation of the testing set). We do not scale the columns that we have transformed using the sine and cosine functions (they are already between -1 and 1)."
   ]
  },
  {
   "cell_type": "code",
   "execution_count": 25,
   "metadata": {},
   "outputs": [],
   "source": [
    "keys = ['Rented Bike Count', 'Temperature(C)', 'Humidity(%)', 'Wind speed (m/s)', 'Visibility (10m)', 'Dew point temperature(C)', 'Solar Radiation (MJ/m2)', 'Rainfall(mm)', 'Snowfall (cm)', 'Year']"
   ]
  },
  {
   "cell_type": "code",
   "execution_count": 26,
   "metadata": {},
   "outputs": [],
   "source": [
    "scaling_parameters = {}\n",
    "for key in keys:\n",
    "  scaling_parameters[key] = {'mean': bike_data_train[key].mean(), 'std': bike_data_train[key].std()}\n",
    "  bike_data_train[key] = (bike_data_train[key] - scaling_parameters[key]['mean']) / scaling_parameters[key]['std']\n",
    "  bike_data_test[key] = (bike_data_test[key] - scaling_parameters[key]['mean']) / scaling_parameters[key]['std']"
   ]
  },
  {
   "cell_type": "code",
   "execution_count": 27,
   "metadata": {},
   "outputs": [
    {
     "data": {
      "text/html": [
       "<div>\n",
       "<style scoped>\n",
       "    .dataframe tbody tr th:only-of-type {\n",
       "        vertical-align: middle;\n",
       "    }\n",
       "\n",
       "    .dataframe tbody tr th {\n",
       "        vertical-align: top;\n",
       "    }\n",
       "\n",
       "    .dataframe thead th {\n",
       "        text-align: right;\n",
       "    }\n",
       "</style>\n",
       "<table border=\"1\" class=\"dataframe\">\n",
       "  <thead>\n",
       "    <tr style=\"text-align: right;\">\n",
       "      <th></th>\n",
       "      <th>Rented Bike Count</th>\n",
       "      <th>Temperature(C)</th>\n",
       "      <th>Humidity(%)</th>\n",
       "      <th>Wind speed (m/s)</th>\n",
       "      <th>Visibility (10m)</th>\n",
       "      <th>Dew point temperature(C)</th>\n",
       "      <th>Solar Radiation (MJ/m2)</th>\n",
       "      <th>Rainfall(mm)</th>\n",
       "      <th>Snowfall (cm)</th>\n",
       "      <th>Holiday</th>\n",
       "      <th>...</th>\n",
       "      <th>Month-sin</th>\n",
       "      <th>Month-cos</th>\n",
       "      <th>DayOfMonth-sin</th>\n",
       "      <th>DayOfMonth-cos</th>\n",
       "      <th>DayOfWeek-sin</th>\n",
       "      <th>DayOfWeek-cos</th>\n",
       "      <th>Hour-sin</th>\n",
       "      <th>Hour-cos</th>\n",
       "      <th>Seasons-cos</th>\n",
       "      <th>Seasons-sin</th>\n",
       "    </tr>\n",
       "  </thead>\n",
       "  <tbody>\n",
       "    <tr>\n",
       "      <th>count</th>\n",
       "      <td>7.008000e+03</td>\n",
       "      <td>7.008000e+03</td>\n",
       "      <td>7.008000e+03</td>\n",
       "      <td>7.008000e+03</td>\n",
       "      <td>7.008000e+03</td>\n",
       "      <td>7.008000e+03</td>\n",
       "      <td>7.008000e+03</td>\n",
       "      <td>7.008000e+03</td>\n",
       "      <td>7.008000e+03</td>\n",
       "      <td>7008.000000</td>\n",
       "      <td>...</td>\n",
       "      <td>7.008000e+03</td>\n",
       "      <td>7.008000e+03</td>\n",
       "      <td>7.008000e+03</td>\n",
       "      <td>7008.000000</td>\n",
       "      <td>7008.000000</td>\n",
       "      <td>7008.000000</td>\n",
       "      <td>7.008000e+03</td>\n",
       "      <td>7.008000e+03</td>\n",
       "      <td>7.008000e+03</td>\n",
       "      <td>7008.000000</td>\n",
       "    </tr>\n",
       "    <tr>\n",
       "      <th>mean</th>\n",
       "      <td>-3.919209e-08</td>\n",
       "      <td>2.612806e-08</td>\n",
       "      <td>1.469704e-08</td>\n",
       "      <td>8.654921e-08</td>\n",
       "      <td>5.946856e-08</td>\n",
       "      <td>2.177339e-08</td>\n",
       "      <td>-1.741871e-08</td>\n",
       "      <td>4.899012e-09</td>\n",
       "      <td>-7.076351e-09</td>\n",
       "      <td>0.049229</td>\n",
       "      <td>...</td>\n",
       "      <td>-3.836990e-03</td>\n",
       "      <td>1.207825e-03</td>\n",
       "      <td>-8.815844e-04</td>\n",
       "      <td>-0.020049</td>\n",
       "      <td>-0.001672</td>\n",
       "      <td>-0.002678</td>\n",
       "      <td>-2.211560e-03</td>\n",
       "      <td>-4.082666e-03</td>\n",
       "      <td>-1.712331e-03</td>\n",
       "      <td>0.002854</td>\n",
       "    </tr>\n",
       "    <tr>\n",
       "      <th>std</th>\n",
       "      <td>1.000000e+00</td>\n",
       "      <td>1.000000e+00</td>\n",
       "      <td>1.000000e+00</td>\n",
       "      <td>1.000000e+00</td>\n",
       "      <td>9.999999e-01</td>\n",
       "      <td>9.999999e-01</td>\n",
       "      <td>9.999999e-01</td>\n",
       "      <td>9.999999e-01</td>\n",
       "      <td>1.000000e+00</td>\n",
       "      <td>0.216362</td>\n",
       "      <td>...</td>\n",
       "      <td>7.077520e-01</td>\n",
       "      <td>7.065505e-01</td>\n",
       "      <td>7.132190e-01</td>\n",
       "      <td>0.700756</td>\n",
       "      <td>0.708588</td>\n",
       "      <td>0.705716</td>\n",
       "      <td>7.060082e-01</td>\n",
       "      <td>7.082892e-01</td>\n",
       "      <td>7.035131e-01</td>\n",
       "      <td>0.710775</td>\n",
       "    </tr>\n",
       "    <tr>\n",
       "      <th>min</th>\n",
       "      <td>-1.083255e+00</td>\n",
       "      <td>-2.570740e+00</td>\n",
       "      <td>-2.851480e+00</td>\n",
       "      <td>-1.668070e+00</td>\n",
       "      <td>-2.302386e+00</td>\n",
       "      <td>-2.651307e+00</td>\n",
       "      <td>-6.570615e-01</td>\n",
       "      <td>-1.309884e-01</td>\n",
       "      <td>-1.725057e-01</td>\n",
       "      <td>0.000000</td>\n",
       "      <td>...</td>\n",
       "      <td>-1.000000e+00</td>\n",
       "      <td>-1.000000e+00</td>\n",
       "      <td>-9.987165e-01</td>\n",
       "      <td>-0.994869</td>\n",
       "      <td>-0.974928</td>\n",
       "      <td>-0.900969</td>\n",
       "      <td>-1.000000e+00</td>\n",
       "      <td>-1.000000e+00</td>\n",
       "      <td>-1.000000e+00</td>\n",
       "      <td>-1.000000</td>\n",
       "    </tr>\n",
       "    <tr>\n",
       "      <th>25%</th>\n",
       "      <td>-7.922645e-01</td>\n",
       "      <td>-7.923507e-01</td>\n",
       "      <td>-7.925367e-01</td>\n",
       "      <td>-7.960631e-01</td>\n",
       "      <td>-8.245643e-01</td>\n",
       "      <td>-6.674747e-01</td>\n",
       "      <td>-6.570615e-01</td>\n",
       "      <td>-1.309884e-01</td>\n",
       "      <td>-1.725057e-01</td>\n",
       "      <td>0.000000</td>\n",
       "      <td>...</td>\n",
       "      <td>-8.660252e-01</td>\n",
       "      <td>-5.000001e-01</td>\n",
       "      <td>-7.247925e-01</td>\n",
       "      <td>-0.758758</td>\n",
       "      <td>-0.781832</td>\n",
       "      <td>-0.900969</td>\n",
       "      <td>-7.071065e-01</td>\n",
       "      <td>-7.071068e-01</td>\n",
       "      <td>-4.371139e-08</td>\n",
       "      <td>-1.000000</td>\n",
       "    </tr>\n",
       "    <tr>\n",
       "      <th>50%</th>\n",
       "      <td>-3.203678e-01</td>\n",
       "      <td>6.328943e-02</td>\n",
       "      <td>-5.719985e-02</td>\n",
       "      <td>-2.147250e-01</td>\n",
       "      <td>4.250163e-01</td>\n",
       "      <td>7.550506e-02</td>\n",
       "      <td>-6.455716e-01</td>\n",
       "      <td>-1.309884e-01</td>\n",
       "      <td>-1.725057e-01</td>\n",
       "      <td>0.000000</td>\n",
       "      <td>...</td>\n",
       "      <td>1.748456e-07</td>\n",
       "      <td>-4.371139e-08</td>\n",
       "      <td>1.748456e-07</td>\n",
       "      <td>-0.050649</td>\n",
       "      <td>0.000000</td>\n",
       "      <td>-0.222521</td>\n",
       "      <td>-8.742278e-08</td>\n",
       "      <td>-4.371139e-08</td>\n",
       "      <td>-4.371139e-08</td>\n",
       "      <td>0.000000</td>\n",
       "    </tr>\n",
       "    <tr>\n",
       "      <th>75%</th>\n",
       "      <td>5.549122e-01</td>\n",
       "      <td>8.098773e-01</td>\n",
       "      <td>7.761819e-01</td>\n",
       "      <td>5.603923e-01</td>\n",
       "      <td>9.274758e-01</td>\n",
       "      <td>8.184847e-01</td>\n",
       "      <td>4.143651e-01</td>\n",
       "      <td>-1.309884e-01</td>\n",
       "      <td>-1.725057e-01</td>\n",
       "      <td>0.000000</td>\n",
       "      <td>...</td>\n",
       "      <td>5.000000e-01</td>\n",
       "      <td>8.660254e-01</td>\n",
       "      <td>7.247928e-01</td>\n",
       "      <td>0.688967</td>\n",
       "      <td>0.781832</td>\n",
       "      <td>0.623490</td>\n",
       "      <td>7.071068e-01</td>\n",
       "      <td>7.071068e-01</td>\n",
       "      <td>1.192488e-08</td>\n",
       "      <td>1.000000</td>\n",
       "    </tr>\n",
       "    <tr>\n",
       "      <th>max</th>\n",
       "      <td>4.391671e+00</td>\n",
       "      <td>2.227556e+00</td>\n",
       "      <td>1.952721e+00</td>\n",
       "      <td>5.501766e+00</td>\n",
       "      <td>9.274758e-01</td>\n",
       "      <td>1.775933e+00</td>\n",
       "      <td>3.387358e+00</td>\n",
       "      <td>2.897912e+01</td>\n",
       "      <td>1.947747e+01</td>\n",
       "      <td>1.000000</td>\n",
       "      <td>...</td>\n",
       "      <td>1.000000e+00</td>\n",
       "      <td>1.000000e+00</td>\n",
       "      <td>9.987165e-01</td>\n",
       "      <td>1.000000</td>\n",
       "      <td>0.974928</td>\n",
       "      <td>1.000000</td>\n",
       "      <td>1.000000e+00</td>\n",
       "      <td>1.000000e+00</td>\n",
       "      <td>1.000000e+00</td>\n",
       "      <td>1.000000</td>\n",
       "    </tr>\n",
       "  </tbody>\n",
       "</table>\n",
       "<p>8 rows × 22 columns</p>\n",
       "</div>"
      ],
      "text/plain": [
       "       Rented Bike Count  Temperature(C)   Humidity(%)  Wind speed (m/s)  \\\n",
       "count       7.008000e+03    7.008000e+03  7.008000e+03      7.008000e+03   \n",
       "mean       -3.919209e-08    2.612806e-08  1.469704e-08      8.654921e-08   \n",
       "std         1.000000e+00    1.000000e+00  1.000000e+00      1.000000e+00   \n",
       "min        -1.083255e+00   -2.570740e+00 -2.851480e+00     -1.668070e+00   \n",
       "25%        -7.922645e-01   -7.923507e-01 -7.925367e-01     -7.960631e-01   \n",
       "50%        -3.203678e-01    6.328943e-02 -5.719985e-02     -2.147250e-01   \n",
       "75%         5.549122e-01    8.098773e-01  7.761819e-01      5.603923e-01   \n",
       "max         4.391671e+00    2.227556e+00  1.952721e+00      5.501766e+00   \n",
       "\n",
       "       Visibility (10m)  Dew point temperature(C)  Solar Radiation (MJ/m2)  \\\n",
       "count      7.008000e+03              7.008000e+03             7.008000e+03   \n",
       "mean       5.946856e-08              2.177339e-08            -1.741871e-08   \n",
       "std        9.999999e-01              9.999999e-01             9.999999e-01   \n",
       "min       -2.302386e+00             -2.651307e+00            -6.570615e-01   \n",
       "25%       -8.245643e-01             -6.674747e-01            -6.570615e-01   \n",
       "50%        4.250163e-01              7.550506e-02            -6.455716e-01   \n",
       "75%        9.274758e-01              8.184847e-01             4.143651e-01   \n",
       "max        9.274758e-01              1.775933e+00             3.387358e+00   \n",
       "\n",
       "       Rainfall(mm)  Snowfall (cm)      Holiday  ...     Month-sin  \\\n",
       "count  7.008000e+03   7.008000e+03  7008.000000  ...  7.008000e+03   \n",
       "mean   4.899012e-09  -7.076351e-09     0.049229  ... -3.836990e-03   \n",
       "std    9.999999e-01   1.000000e+00     0.216362  ...  7.077520e-01   \n",
       "min   -1.309884e-01  -1.725057e-01     0.000000  ... -1.000000e+00   \n",
       "25%   -1.309884e-01  -1.725057e-01     0.000000  ... -8.660252e-01   \n",
       "50%   -1.309884e-01  -1.725057e-01     0.000000  ...  1.748456e-07   \n",
       "75%   -1.309884e-01  -1.725057e-01     0.000000  ...  5.000000e-01   \n",
       "max    2.897912e+01   1.947747e+01     1.000000  ...  1.000000e+00   \n",
       "\n",
       "          Month-cos  DayOfMonth-sin  DayOfMonth-cos  DayOfWeek-sin  \\\n",
       "count  7.008000e+03    7.008000e+03     7008.000000    7008.000000   \n",
       "mean   1.207825e-03   -8.815844e-04       -0.020049      -0.001672   \n",
       "std    7.065505e-01    7.132190e-01        0.700756       0.708588   \n",
       "min   -1.000000e+00   -9.987165e-01       -0.994869      -0.974928   \n",
       "25%   -5.000001e-01   -7.247925e-01       -0.758758      -0.781832   \n",
       "50%   -4.371139e-08    1.748456e-07       -0.050649       0.000000   \n",
       "75%    8.660254e-01    7.247928e-01        0.688967       0.781832   \n",
       "max    1.000000e+00    9.987165e-01        1.000000       0.974928   \n",
       "\n",
       "       DayOfWeek-cos      Hour-sin      Hour-cos   Seasons-cos  Seasons-sin  \n",
       "count    7008.000000  7.008000e+03  7.008000e+03  7.008000e+03  7008.000000  \n",
       "mean       -0.002678 -2.211560e-03 -4.082666e-03 -1.712331e-03     0.002854  \n",
       "std         0.705716  7.060082e-01  7.082892e-01  7.035131e-01     0.710775  \n",
       "min        -0.900969 -1.000000e+00 -1.000000e+00 -1.000000e+00    -1.000000  \n",
       "25%        -0.900969 -7.071065e-01 -7.071068e-01 -4.371139e-08    -1.000000  \n",
       "50%        -0.222521 -8.742278e-08 -4.371139e-08 -4.371139e-08     0.000000  \n",
       "75%         0.623490  7.071068e-01  7.071068e-01  1.192488e-08     1.000000  \n",
       "max         1.000000  1.000000e+00  1.000000e+00  1.000000e+00     1.000000  \n",
       "\n",
       "[8 rows x 22 columns]"
      ]
     },
     "execution_count": 27,
     "metadata": {},
     "output_type": "execute_result"
    }
   ],
   "source": [
    "bike_data_train.describe()"
   ]
  },
  {
   "cell_type": "markdown",
   "metadata": {},
   "source": [
    "We prepare the tensors so that they can be fed into the model."
   ]
  },
  {
   "cell_type": "code",
   "execution_count": 28,
   "metadata": {},
   "outputs": [],
   "source": [
    "x_train = torch.tensor(bike_data_train.drop('Rented Bike Count', axis=1).values)\n",
    "y_train = torch.tensor(bike_data_train['Rented Bike Count'].values).reshape(-1, 1)\n",
    "x_test = torch.tensor(bike_data_test.drop('Rented Bike Count', axis=1).values)\n",
    "y_test = torch.tensor(bike_data_test['Rented Bike Count'].values).reshape(-1, 1)"
   ]
  },
  {
   "cell_type": "code",
   "execution_count": 30,
   "metadata": {},
   "outputs": [
    {
     "name": "stdout",
     "output_type": "stream",
     "text": [
      "Shape of x_train: torch.Size([7008, 21])\n",
      "Shape of y_train: torch.Size([7008, 1])\n",
      "Shape of x_test: torch.Size([1752, 21])\n",
      "Shape of y_test: torch.Size([1752, 1])\n"
     ]
    }
   ],
   "source": [
    "print(f\"Shape of x_train: {x_train.shape}\")\n",
    "print(f\"Shape of y_train: {y_train.shape}\")\n",
    "print(f\"Shape of x_test: {x_test.shape}\")\n",
    "print(f\"Shape of y_test: {y_test.shape}\")"
   ]
  },
  {
   "cell_type": "code",
   "execution_count": 31,
   "metadata": {},
   "outputs": [
    {
     "name": "stdout",
     "output_type": "stream",
     "text": [
      "Number of training samples: 7008\n",
      "Number of test samples: 1752\n",
      "Number of features: 21\n"
     ]
    }
   ],
   "source": [
    "n_training_samples = x_train.shape[0]\n",
    "n_test_samples = x_test.shape[0]\n",
    "n_features = x_train.shape[1]\n",
    "print(f\"Number of training samples: {n_training_samples}\")\n",
    "print(f\"Number of test samples: {n_test_samples}\")\n",
    "print(f\"Number of features: {n_features}\")"
   ]
  },
  {
   "cell_type": "markdown",
   "metadata": {},
   "source": [
    "### Linear regression\n",
    "\n",
    "Let us start with our benchmark model: linear regression. We find the optimal weights and bias by solving the linear system of equations found in previous lectures. See the [notes](../notes/02%20-%20Linear%20regression.pdf) and the [notebook](../notebooks/01-linear_regression_house_prices.ipynb) for more details."
   ]
  },
  {
   "cell_type": "code",
   "execution_count": 32,
   "metadata": {},
   "outputs": [],
   "source": [
    "x_tilde = torch.cat([x_train, torch.ones(n_training_samples, 1)], axis=1)\n",
    "A = ( x_tilde.t()@ x_tilde )/x_tilde.shape[0]\n",
    "c = x_tilde.t() @ y_train / x_tilde.shape[0]\n",
    "solution = torch.linalg.solve(A, c)\n",
    "w = solution[:-1]\n",
    "b = solution[-1]"
   ]
  },
  {
   "cell_type": "markdown",
   "metadata": {},
   "source": [
    "We measure the performance of the model using the coefficient of determination $R^2$."
   ]
  },
  {
   "cell_type": "code",
   "execution_count": 33,
   "metadata": {},
   "outputs": [
    {
     "name": "stdout",
     "output_type": "stream",
     "text": [
      "R2 on the test set: 0.5296326279640198\n"
     ]
    }
   ],
   "source": [
    "R2 = 1 - torch.sum((y_test - x_test @w - b)**2)/torch.sum((y_test - y_test.mean())**2)\n",
    "print(f\"R2 on the test set: {R2}\")"
   ]
  },
  {
   "cell_type": "markdown",
   "metadata": {},
   "source": [
    "### Linear regression with the `mydl` library\n",
    "\n",
    "We understood that linear regression is equivalent to a neural network with a single layer and no activation function. "
   ]
  },
  {
   "cell_type": "markdown",
   "metadata": {},
   "source": [
    "Let us import the classes from the `mydl` library."
   ]
  },
  {
   "cell_type": "code",
   "execution_count": 34,
   "metadata": {},
   "outputs": [
    {
     "name": "stdout",
     "output_type": "stream",
     "text": [
      "/Users/orlando/GitHub/SCUDO-MMinDL\n",
      "[Errno 2] No such file or directory: 'notebooks # change back to the notebooks directory'\n",
      "/Users/orlando/GitHub/SCUDO-MMinDL\n"
     ]
    },
    {
     "name": "stderr",
     "output_type": "stream",
     "text": [
      "/Users/orlando/GitHub/SCUDO-MMinDL/.venv/lib/python3.12/site-packages/IPython/core/magics/osm.py:417: UserWarning: This is now an optional IPython functionality, setting dhist requires you to install the `pickleshare` library.\n",
      "  self.shell.db['dhist'] = compress_dhist(dhist)[-100:]\n",
      "/Users/orlando/GitHub/SCUDO-MMinDL/.venv/lib/python3.12/site-packages/IPython/core/magics/osm.py:393: UserWarning: This is now an optional IPython functionality, using bookmarks requires you to install the `pickleshare` library.\n",
      "  bkms = self.shell.db.get('bookmarks', {})\n"
     ]
    }
   ],
   "source": [
    "%cd .. \n",
    "from mydl.architecture import * # import all the classes and functions from the architecture module\n",
    "from mydl.layers import * # import all the classes and functions from the layers module\n",
    "from mydl.losses import * # import all the classes and functions from the losses module\n",
    "from mydl.optimizers import * # import all the classes and functions from the optimizers module\n",
    "%cd notebooks # change back to the notebooks directory"
   ]
  },
  {
   "cell_type": "markdown",
   "metadata": {},
   "source": [
    "We build a simple neural network with a single layer and no activation function. "
   ]
  },
  {
   "cell_type": "code",
   "execution_count": 48,
   "metadata": {},
   "outputs": [],
   "source": [
    "model = Sequential([Linear(n_features, 1)])"
   ]
  },
  {
   "cell_type": "markdown",
   "metadata": {},
   "source": [
    "We use the mean squared error as the loss function."
   ]
  },
  {
   "cell_type": "code",
   "execution_count": 49,
   "metadata": {},
   "outputs": [],
   "source": [
    "loss = MSE()"
   ]
  },
  {
   "cell_type": "markdown",
   "metadata": {},
   "source": [
    "We use gradient descent to optimize the weights and bias."
   ]
  },
  {
   "cell_type": "code",
   "execution_count": 50,
   "metadata": {},
   "outputs": [],
   "source": [
    "optimizer = GD(learning_rate=0.1)"
   ]
  },
  {
   "cell_type": "markdown",
   "metadata": {},
   "source": [
    "Let us train the model."
   ]
  },
  {
   "cell_type": "code",
   "execution_count": 51,
   "metadata": {},
   "outputs": [
    {
     "name": "stdout",
     "output_type": "stream",
     "text": [
      "Training the network...\n",
      "Training complete.\n"
     ]
    }
   ],
   "source": [
    "n_epochs = 1000\n",
    "losses_train = model.train(x_train, y_train, loss, optimizer, n_epochs)"
   ]
  },
  {
   "cell_type": "code",
   "execution_count": 52,
   "metadata": {},
   "outputs": [
    {
     "data": {
      "text/plain": [
       "[<matplotlib.lines.Line2D at 0x169dbf350>]"
      ]
     },
     "execution_count": 52,
     "metadata": {},
     "output_type": "execute_result"
    },
    {
     "data": {
      "image/png": "[encoded data removed]",
      "text/plain": [
       "<Figure size 640x480 with 1 Axes>"
      ]
     },
     "metadata": {},
     "output_type": "display_data"
    }
   ],
   "source": [
    "plt.plot(losses_train)"
   ]
  },
  {
   "cell_type": "code",
   "execution_count": 53,
   "metadata": {},
   "outputs": [
    {
     "name": "stdout",
     "output_type": "stream",
     "text": [
      "R2 on the test set: 0.528307318687439\n"
     ]
    }
   ],
   "source": [
    "y_pred = model.forward(x_test)\n",
    "R2 = 1 - torch.sum((y_test - y_pred)**2)/torch.sum((y_test - y_test.mean())**2)\n",
    "print(f\"R2 on the test set: {R2}\")"
   ]
  },
  {
   "cell_type": "markdown",
   "metadata": {},
   "source": [
    "Of course, the performance is comparable to that of the linear regression model."
   ]
  },
  {
   "cell_type": "markdown",
   "metadata": {},
   "source": [
    "### A bad model\n",
    "\n",
    "Let us build a bad model. We build a neural network with a sequence of linear layers and no activation functions. It has more parameters than the linear regression model, but it is not more expressive."
   ]
  },
  {
   "cell_type": "code",
   "execution_count": 68,
   "metadata": {},
   "outputs": [],
   "source": [
    "layers = [Linear(n_features, 64), \n",
    "          Linear(64, 32),\n",
    "          Linear(32, 16),\n",
    "          Linear(16, 1)]\n",
    "model = Sequential(layers)"
   ]
  },
  {
   "cell_type": "code",
   "execution_count": 69,
   "metadata": {},
   "outputs": [],
   "source": [
    "loss = MSE()"
   ]
  },
  {
   "cell_type": "markdown",
   "metadata": {},
   "source": [
    "We need many iterations to train the model."
   ]
  },
  {
   "cell_type": "code",
   "execution_count": 70,
   "metadata": {},
   "outputs": [
    {
     "name": "stdout",
     "output_type": "stream",
     "text": [
      "Training the network...\n",
      "Training complete.\n"
     ]
    }
   ],
   "source": [
    "n_epochs = 10_000\n",
    "optimizer = GD(learning_rate=1e-6)\n",
    "losses_train = model.train(x_train, y_train, loss, optimizer, n_epochs)"
   ]
  },
  {
   "cell_type": "code",
   "execution_count": 71,
   "metadata": {},
   "outputs": [
    {
     "data": {
      "text/plain": [
       "[<matplotlib.lines.Line2D at 0x169daf8c0>]"
      ]
     },
     "execution_count": 71,
     "metadata": {},
     "output_type": "execute_result"
    },
    {
     "data": {
      "image/png": "[encoded data removed]",
      "text/plain": [
       "<Figure size 640x480 with 1 Axes>"
      ]
     },
     "metadata": {},
     "output_type": "display_data"
    }
   ],
   "source": [
    "plt.plot(losses_train)"
   ]
  },
  {
   "cell_type": "code",
   "execution_count": 73,
   "metadata": {},
   "outputs": [
    {
     "name": "stdout",
     "output_type": "stream",
     "text": [
      "R2 on the test set: 0.5241358280181885\n"
     ]
    }
   ],
   "source": [
    "y_pred = model.forward(x_test)\n",
    "R2 = 1 - torch.sum((y_test - y_pred)**2)/torch.sum((y_test - y_test.mean())**2)\n",
    "print(f\"R2 on the test set: {R2}\")"
   ]
  },
  {
   "cell_type": "markdown",
   "metadata": {},
   "source": [
    "As we see, the performance is comparable to that of the linear regression model. It means that this model is not more expressive than the linear regression model."
   ]
  },
  {
   "cell_type": "markdown",
   "metadata": {},
   "source": [
    "### Using nonlinear activation functions\n",
    "\n",
    "We build a neural network with a sequence of linear layers and Sigmoid activation functions."
   ]
  },
  {
   "cell_type": "code",
   "execution_count": 74,
   "metadata": {},
   "outputs": [],
   "source": [
    "layers = [Linear(n_features, 64),\n",
    "          Sigmoid(),\n",
    "          Linear(64, 32),\n",
    "          Sigmoid(),\n",
    "          Linear(32, 16),\n",
    "          Sigmoid(),\n",
    "          Linear(16, 1)]\n",
    "model = Sequential(layers)"
   ]
  },
  {
   "cell_type": "code",
   "execution_count": 75,
   "metadata": {},
   "outputs": [
    {
     "name": "stdout",
     "output_type": "stream",
     "text": [
      "Training the network...\n",
      "Training complete.\n",
      "tensor(0.0934)\n"
     ]
    }
   ],
   "source": [
    "n_epochs = 10_000\n",
    "optimizer = GD(learning_rate=1e-1)\n",
    "losses_train = model.train(x_train, y_train, loss, optimizer, n_epochs)\n",
    "print(losses_train[-1])"
   ]
  },
  {
   "cell_type": "code",
   "execution_count": 76,
   "metadata": {},
   "outputs": [
    {
     "data": {
      "text/plain": [
       "[<matplotlib.lines.Line2D at 0x1680fffb0>]"
      ]
     },
     "execution_count": 76,
     "metadata": {},
     "output_type": "execute_result"
    },
    {
     "data": {
      "image/png": "[encoded data removed]",
      "text/plain": [
       "<Figure size 640x480 with 1 Axes>"
      ]
     },
     "metadata": {},
     "output_type": "display_data"
    }
   ],
   "source": [
    "plt.plot(losses_train)"
   ]
  },
  {
   "cell_type": "code",
   "execution_count": 77,
   "metadata": {},
   "outputs": [
    {
     "name": "stdout",
     "output_type": "stream",
     "text": [
      "R2 on the test set: 0.8591499924659729\n"
     ]
    }
   ],
   "source": [
    "y_pred = model.forward(x_test)\n",
    "R2 = 1 - torch.sum((y_test - y_pred)**2)/torch.sum((y_test - y_test.mean())**2)\n",
    "print(f\"R2 on the test set: {R2}\")"
   ]
  },
  {
   "cell_type": "markdown",
   "metadata": {},
   "source": [
    "The improvement is significant. The model is more expressive than the linear regression model."
   ]
  }
 ],
 "metadata": {
  "kernelspec": {
   "display_name": ".venv",
   "language": "python",
   "name": "python3"
  },
  "language_info": {
   "codemirror_mode": {
    "name": "ipython",
    "version": 3
   },
   "file_extension": ".py",
   "mimetype": "text/x-python",
   "name": "python",
   "nbconvert_exporter": "python",
   "pygments_lexer": "ipython3",
   "version": "3.12.7"
  }
 },
 "nbformat": 4,
 "nbformat_minor": 2
}
