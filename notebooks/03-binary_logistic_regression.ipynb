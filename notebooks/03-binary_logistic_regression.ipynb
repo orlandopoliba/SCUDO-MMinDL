{
 "cells": [
  {
   "cell_type": "markdown",
   "metadata": {},
   "source": [
    "# Logistic regression (binary classification) with MNIST\n",
    "\n",
    "Let us start with a simple example. We will use logistic regression to recognize if a digit is 0 or not."
   ]
  },
  {
   "cell_type": "markdown",
   "metadata": {},
   "source": [
    "We import libraries."
   ]
  },
  {
   "cell_type": "code",
   "execution_count": 100,
   "metadata": {},
   "outputs": [],
   "source": [
    "import pandas as pd # data processing, CSV file \n",
    "import torch # library for tensor computation"
   ]
  },
  {
   "cell_type": "markdown",
   "metadata": {},
   "source": [
    "We load the MNIST dataset as we did in the [previous notebook](02-using_MNIST.ipynb). The dataset has already been split into training and test sets, so we load them in separate dataframes."
   ]
  },
  {
   "cell_type": "code",
   "execution_count": 65,
   "metadata": {},
   "outputs": [],
   "source": [
    "mnist_train = pd.read_csv('../datasets/mnist_train.csv')\n",
    "mnist_test = pd.read_csv('../datasets/mnist_test.csv')"
   ]
  },
  {
   "cell_type": "markdown",
   "metadata": {},
   "source": [
    "Let us count the number of samples in each set."
   ]
  },
  {
   "cell_type": "code",
   "execution_count": 101,
   "metadata": {},
   "outputs": [
    {
     "name": "stdout",
     "output_type": "stream",
     "text": [
      "Number of training examples: 60000\n",
      "Number of testing examples: 10000\n"
     ]
    }
   ],
   "source": [
    "print(f\"Number of training examples: {len(mnist_train)}\")\n",
    "print(f\"Number of testing examples: {len(mnist_test)}\")"
   ]
  },
  {
   "cell_type": "markdown",
   "metadata": {},
   "source": [
    "Let us recall the structure of the dataset. We have 784 features (28x28 pixels) and 1 label column."
   ]
  },
  {
   "cell_type": "code",
   "execution_count": 102,
   "metadata": {},
   "outputs": [
    {
     "data": {
      "text/html": [
       "<div>\n",
       "<style scoped>\n",
       "    .dataframe tbody tr th:only-of-type {\n",
       "        vertical-align: middle;\n",
       "    }\n",
       "\n",
       "    .dataframe tbody tr th {\n",
       "        vertical-align: top;\n",
       "    }\n",
       "\n",
       "    .dataframe thead th {\n",
       "        text-align: right;\n",
       "    }\n",
       "</style>\n",
       "<table border=\"1\" class=\"dataframe\">\n",
       "  <thead>\n",
       "    <tr style=\"text-align: right;\">\n",
       "      <th></th>\n",
       "      <th>label</th>\n",
       "      <th>1x1</th>\n",
       "      <th>1x2</th>\n",
       "      <th>1x3</th>\n",
       "      <th>1x4</th>\n",
       "      <th>1x5</th>\n",
       "      <th>1x6</th>\n",
       "      <th>1x7</th>\n",
       "      <th>1x8</th>\n",
       "      <th>1x9</th>\n",
       "      <th>...</th>\n",
       "      <th>28x19</th>\n",
       "      <th>28x20</th>\n",
       "      <th>28x21</th>\n",
       "      <th>28x22</th>\n",
       "      <th>28x23</th>\n",
       "      <th>28x24</th>\n",
       "      <th>28x25</th>\n",
       "      <th>28x26</th>\n",
       "      <th>28x27</th>\n",
       "      <th>28x28</th>\n",
       "    </tr>\n",
       "  </thead>\n",
       "  <tbody>\n",
       "    <tr>\n",
       "      <th>0</th>\n",
       "      <td>5</td>\n",
       "      <td>0</td>\n",
       "      <td>0</td>\n",
       "      <td>0</td>\n",
       "      <td>0</td>\n",
       "      <td>0</td>\n",
       "      <td>0</td>\n",
       "      <td>0</td>\n",
       "      <td>0</td>\n",
       "      <td>0</td>\n",
       "      <td>...</td>\n",
       "      <td>0</td>\n",
       "      <td>0</td>\n",
       "      <td>0</td>\n",
       "      <td>0</td>\n",
       "      <td>0</td>\n",
       "      <td>0</td>\n",
       "      <td>0</td>\n",
       "      <td>0</td>\n",
       "      <td>0</td>\n",
       "      <td>0</td>\n",
       "    </tr>\n",
       "    <tr>\n",
       "      <th>1</th>\n",
       "      <td>0</td>\n",
       "      <td>0</td>\n",
       "      <td>0</td>\n",
       "      <td>0</td>\n",
       "      <td>0</td>\n",
       "      <td>0</td>\n",
       "      <td>0</td>\n",
       "      <td>0</td>\n",
       "      <td>0</td>\n",
       "      <td>0</td>\n",
       "      <td>...</td>\n",
       "      <td>0</td>\n",
       "      <td>0</td>\n",
       "      <td>0</td>\n",
       "      <td>0</td>\n",
       "      <td>0</td>\n",
       "      <td>0</td>\n",
       "      <td>0</td>\n",
       "      <td>0</td>\n",
       "      <td>0</td>\n",
       "      <td>0</td>\n",
       "    </tr>\n",
       "    <tr>\n",
       "      <th>2</th>\n",
       "      <td>4</td>\n",
       "      <td>0</td>\n",
       "      <td>0</td>\n",
       "      <td>0</td>\n",
       "      <td>0</td>\n",
       "      <td>0</td>\n",
       "      <td>0</td>\n",
       "      <td>0</td>\n",
       "      <td>0</td>\n",
       "      <td>0</td>\n",
       "      <td>...</td>\n",
       "      <td>0</td>\n",
       "      <td>0</td>\n",
       "      <td>0</td>\n",
       "      <td>0</td>\n",
       "      <td>0</td>\n",
       "      <td>0</td>\n",
       "      <td>0</td>\n",
       "      <td>0</td>\n",
       "      <td>0</td>\n",
       "      <td>0</td>\n",
       "    </tr>\n",
       "    <tr>\n",
       "      <th>3</th>\n",
       "      <td>1</td>\n",
       "      <td>0</td>\n",
       "      <td>0</td>\n",
       "      <td>0</td>\n",
       "      <td>0</td>\n",
       "      <td>0</td>\n",
       "      <td>0</td>\n",
       "      <td>0</td>\n",
       "      <td>0</td>\n",
       "      <td>0</td>\n",
       "      <td>...</td>\n",
       "      <td>0</td>\n",
       "      <td>0</td>\n",
       "      <td>0</td>\n",
       "      <td>0</td>\n",
       "      <td>0</td>\n",
       "      <td>0</td>\n",
       "      <td>0</td>\n",
       "      <td>0</td>\n",
       "      <td>0</td>\n",
       "      <td>0</td>\n",
       "    </tr>\n",
       "    <tr>\n",
       "      <th>4</th>\n",
       "      <td>9</td>\n",
       "      <td>0</td>\n",
       "      <td>0</td>\n",
       "      <td>0</td>\n",
       "      <td>0</td>\n",
       "      <td>0</td>\n",
       "      <td>0</td>\n",
       "      <td>0</td>\n",
       "      <td>0</td>\n",
       "      <td>0</td>\n",
       "      <td>...</td>\n",
       "      <td>0</td>\n",
       "      <td>0</td>\n",
       "      <td>0</td>\n",
       "      <td>0</td>\n",
       "      <td>0</td>\n",
       "      <td>0</td>\n",
       "      <td>0</td>\n",
       "      <td>0</td>\n",
       "      <td>0</td>\n",
       "      <td>0</td>\n",
       "    </tr>\n",
       "    <tr>\n",
       "      <th>...</th>\n",
       "      <td>...</td>\n",
       "      <td>...</td>\n",
       "      <td>...</td>\n",
       "      <td>...</td>\n",
       "      <td>...</td>\n",
       "      <td>...</td>\n",
       "      <td>...</td>\n",
       "      <td>...</td>\n",
       "      <td>...</td>\n",
       "      <td>...</td>\n",
       "      <td>...</td>\n",
       "      <td>...</td>\n",
       "      <td>...</td>\n",
       "      <td>...</td>\n",
       "      <td>...</td>\n",
       "      <td>...</td>\n",
       "      <td>...</td>\n",
       "      <td>...</td>\n",
       "      <td>...</td>\n",
       "      <td>...</td>\n",
       "      <td>...</td>\n",
       "    </tr>\n",
       "    <tr>\n",
       "      <th>59995</th>\n",
       "      <td>8</td>\n",
       "      <td>0</td>\n",
       "      <td>0</td>\n",
       "      <td>0</td>\n",
       "      <td>0</td>\n",
       "      <td>0</td>\n",
       "      <td>0</td>\n",
       "      <td>0</td>\n",
       "      <td>0</td>\n",
       "      <td>0</td>\n",
       "      <td>...</td>\n",
       "      <td>0</td>\n",
       "      <td>0</td>\n",
       "      <td>0</td>\n",
       "      <td>0</td>\n",
       "      <td>0</td>\n",
       "      <td>0</td>\n",
       "      <td>0</td>\n",
       "      <td>0</td>\n",
       "      <td>0</td>\n",
       "      <td>0</td>\n",
       "    </tr>\n",
       "    <tr>\n",
       "      <th>59996</th>\n",
       "      <td>3</td>\n",
       "      <td>0</td>\n",
       "      <td>0</td>\n",
       "      <td>0</td>\n",
       "      <td>0</td>\n",
       "      <td>0</td>\n",
       "      <td>0</td>\n",
       "      <td>0</td>\n",
       "      <td>0</td>\n",
       "      <td>0</td>\n",
       "      <td>...</td>\n",
       "      <td>0</td>\n",
       "      <td>0</td>\n",
       "      <td>0</td>\n",
       "      <td>0</td>\n",
       "      <td>0</td>\n",
       "      <td>0</td>\n",
       "      <td>0</td>\n",
       "      <td>0</td>\n",
       "      <td>0</td>\n",
       "      <td>0</td>\n",
       "    </tr>\n",
       "    <tr>\n",
       "      <th>59997</th>\n",
       "      <td>5</td>\n",
       "      <td>0</td>\n",
       "      <td>0</td>\n",
       "      <td>0</td>\n",
       "      <td>0</td>\n",
       "      <td>0</td>\n",
       "      <td>0</td>\n",
       "      <td>0</td>\n",
       "      <td>0</td>\n",
       "      <td>0</td>\n",
       "      <td>...</td>\n",
       "      <td>0</td>\n",
       "      <td>0</td>\n",
       "      <td>0</td>\n",
       "      <td>0</td>\n",
       "      <td>0</td>\n",
       "      <td>0</td>\n",
       "      <td>0</td>\n",
       "      <td>0</td>\n",
       "      <td>0</td>\n",
       "      <td>0</td>\n",
       "    </tr>\n",
       "    <tr>\n",
       "      <th>59998</th>\n",
       "      <td>6</td>\n",
       "      <td>0</td>\n",
       "      <td>0</td>\n",
       "      <td>0</td>\n",
       "      <td>0</td>\n",
       "      <td>0</td>\n",
       "      <td>0</td>\n",
       "      <td>0</td>\n",
       "      <td>0</td>\n",
       "      <td>0</td>\n",
       "      <td>...</td>\n",
       "      <td>0</td>\n",
       "      <td>0</td>\n",
       "      <td>0</td>\n",
       "      <td>0</td>\n",
       "      <td>0</td>\n",
       "      <td>0</td>\n",
       "      <td>0</td>\n",
       "      <td>0</td>\n",
       "      <td>0</td>\n",
       "      <td>0</td>\n",
       "    </tr>\n",
       "    <tr>\n",
       "      <th>59999</th>\n",
       "      <td>8</td>\n",
       "      <td>0</td>\n",
       "      <td>0</td>\n",
       "      <td>0</td>\n",
       "      <td>0</td>\n",
       "      <td>0</td>\n",
       "      <td>0</td>\n",
       "      <td>0</td>\n",
       "      <td>0</td>\n",
       "      <td>0</td>\n",
       "      <td>...</td>\n",
       "      <td>0</td>\n",
       "      <td>0</td>\n",
       "      <td>0</td>\n",
       "      <td>0</td>\n",
       "      <td>0</td>\n",
       "      <td>0</td>\n",
       "      <td>0</td>\n",
       "      <td>0</td>\n",
       "      <td>0</td>\n",
       "      <td>0</td>\n",
       "    </tr>\n",
       "  </tbody>\n",
       "</table>\n",
       "<p>60000 rows × 785 columns</p>\n",
       "</div>"
      ],
      "text/plain": [
       "       label  1x1  1x2  1x3  1x4  1x5  1x6  1x7  1x8  1x9  ...  28x19  28x20  \\\n",
       "0          5    0    0    0    0    0    0    0    0    0  ...      0      0   \n",
       "1          0    0    0    0    0    0    0    0    0    0  ...      0      0   \n",
       "2          4    0    0    0    0    0    0    0    0    0  ...      0      0   \n",
       "3          1    0    0    0    0    0    0    0    0    0  ...      0      0   \n",
       "4          9    0    0    0    0    0    0    0    0    0  ...      0      0   \n",
       "...      ...  ...  ...  ...  ...  ...  ...  ...  ...  ...  ...    ...    ...   \n",
       "59995      8    0    0    0    0    0    0    0    0    0  ...      0      0   \n",
       "59996      3    0    0    0    0    0    0    0    0    0  ...      0      0   \n",
       "59997      5    0    0    0    0    0    0    0    0    0  ...      0      0   \n",
       "59998      6    0    0    0    0    0    0    0    0    0  ...      0      0   \n",
       "59999      8    0    0    0    0    0    0    0    0    0  ...      0      0   \n",
       "\n",
       "       28x21  28x22  28x23  28x24  28x25  28x26  28x27  28x28  \n",
       "0          0      0      0      0      0      0      0      0  \n",
       "1          0      0      0      0      0      0      0      0  \n",
       "2          0      0      0      0      0      0      0      0  \n",
       "3          0      0      0      0      0      0      0      0  \n",
       "4          0      0      0      0      0      0      0      0  \n",
       "...      ...    ...    ...    ...    ...    ...    ...    ...  \n",
       "59995      0      0      0      0      0      0      0      0  \n",
       "59996      0      0      0      0      0      0      0      0  \n",
       "59997      0      0      0      0      0      0      0      0  \n",
       "59998      0      0      0      0      0      0      0      0  \n",
       "59999      0      0      0      0      0      0      0      0  \n",
       "\n",
       "[60000 rows x 785 columns]"
      ]
     },
     "execution_count": 102,
     "metadata": {},
     "output_type": "execute_result"
    }
   ],
   "source": [
    "mnist_train"
   ]
  },
  {
   "cell_type": "markdown",
   "metadata": {},
   "source": [
    "We create tensors from the dataframes to do operations with them. We call these tensors \"raw\" because we will preprocess them later."
   ]
  },
  {
   "cell_type": "code",
   "execution_count": 106,
   "metadata": {},
   "outputs": [],
   "source": [
    "x_train_raw = torch.tensor(mnist_train.iloc[:, 1:].values, dtype=torch.float32)\n",
    "x_test_raw = torch.tensor(mnist_test.iloc[:, 1:].values, dtype=torch.float32)"
   ]
  },
  {
   "cell_type": "code",
   "execution_count": 107,
   "metadata": {},
   "outputs": [
    {
     "name": "stdout",
     "output_type": "stream",
     "text": [
      "Shape of x_train: torch.Size([60000, 784])\n",
      "Shape of x_test: torch.Size([10000, 784])\n"
     ]
    }
   ],
   "source": [
    "print(f\"Shape of x_train: {x_train_raw.shape}\")\n",
    "print(f\"Shape of x_test: {x_test_raw.shape}\")"
   ]
  },
  {
   "cell_type": "markdown",
   "metadata": {},
   "source": [
    "A good practice is to normalize the data. We divide the pixel values by 255 to get values between 0 and 1. (Remember: the original pixel values are between 0 and 255.)"
   ]
  },
  {
   "cell_type": "code",
   "execution_count": 105,
   "metadata": {},
   "outputs": [],
   "source": [
    "x_train = x_train_raw / 255 \n",
    "x_test = x_test_raw / 255"
   ]
  },
  {
   "cell_type": "markdown",
   "metadata": {},
   "source": [
    "Let us now define the target tensors. "
   ]
  },
  {
   "cell_type": "code",
   "execution_count": 108,
   "metadata": {},
   "outputs": [],
   "source": [
    "y_train_raw = torch.tensor(mnist_train.iloc[:, 0].values, dtype=torch.int64).view(-1, 1)\n",
    "y_test_raw = torch.tensor(mnist_test.iloc[:, 0].values, dtype=torch.int64).view(-1, 1)"
   ]
  },
  {
   "cell_type": "code",
   "execution_count": 109,
   "metadata": {},
   "outputs": [
    {
     "name": "stdout",
     "output_type": "stream",
     "text": [
      "Shape of y_train: torch.Size([60000, 1])\n",
      "Shape of y_test: torch.Size([10000, 1])\n"
     ]
    }
   ],
   "source": [
    "print(f\"Shape of y_train: {y_train_raw.shape}\")\n",
    "print(f\"Shape of y_test: {y_test_raw.shape}\")"
   ]
  },
  {
   "cell_type": "markdown",
   "metadata": {},
   "source": [
    "Before defining our target, we modify the target tensors in a convenient way. This will be also useful for the next notebook on multi-class classification. The original tensors contain the labels indicating the digit. "
   ]
  },
  {
   "cell_type": "code",
   "execution_count": 119,
   "metadata": {},
   "outputs": [
    {
     "name": "stdout",
     "output_type": "stream",
     "text": [
      "First digit in the training set: 5\n",
      "Second digit in the training set: 0\n",
      "Third digit in the training set: 4\n"
     ]
    }
   ],
   "source": [
    "print(f\"First digit in the training set: {y_train_raw[0].item()}\")\n",
    "print(f\"Second digit in the training set: {y_train_raw[1].item()}\")\n",
    "print(f\"Third digit in the training set: {y_train_raw[2].item()}\")"
   ]
  },
  {
   "cell_type": "markdown",
   "metadata": {},
   "source": [
    "The labels are just words that we use to identify the digits and they only represent the class where the items in the dataset belong to. The numerical values of the labels are not relevant for the classification task. A way to represent classes numerically is to use *one-hot encoding*.\n",
    "\n",
    "One-hot encoding works as follows. Assume you have $K$ classes. We can enumerate the classes $\\{0,1,2,\\dots, K-1\\}$. We represent each class as a vector in a $K$ dimensional space. More precisely, each class is a coordinate direction in the $K$ dimensional space. This is implemented as follows: We define the bijection\n",
    "$$\n",
    "k \\in \\{0,1,2,\\dots, K-1\\} \\mapsto \\begin{pmatrix} 0 \\\\ \\vdots \\\\ 0 \\\\ 1 \\\\ 0 \\\\ \\vdots \\\\ 0 \\end{pmatrix} \\in \\mathbb{R}^K,\n",
    "$$\n",
    "where the $1$ is in the $k$-th position (counting from $0$ to $K-1$)."
   ]
  },
  {
   "cell_type": "markdown",
   "metadata": {},
   "source": [
    "Let us implement this in Python. We use a matrix trick to do this."
   ]
  },
  {
   "cell_type": "markdown",
   "metadata": {},
   "source": [
    "The `torch.eye` function creates an identity matrix."
   ]
  },
  {
   "cell_type": "code",
   "execution_count": 121,
   "metadata": {},
   "outputs": [
    {
     "data": {
      "text/plain": [
       "tensor([[1., 0., 0., 0., 0., 0., 0., 0., 0., 0.],\n",
       "        [0., 1., 0., 0., 0., 0., 0., 0., 0., 0.],\n",
       "        [0., 0., 1., 0., 0., 0., 0., 0., 0., 0.],\n",
       "        [0., 0., 0., 1., 0., 0., 0., 0., 0., 0.],\n",
       "        [0., 0., 0., 0., 1., 0., 0., 0., 0., 0.],\n",
       "        [0., 0., 0., 0., 0., 1., 0., 0., 0., 0.],\n",
       "        [0., 0., 0., 0., 0., 0., 1., 0., 0., 0.],\n",
       "        [0., 0., 0., 0., 0., 0., 0., 1., 0., 0.],\n",
       "        [0., 0., 0., 0., 0., 0., 0., 0., 1., 0.],\n",
       "        [0., 0., 0., 0., 0., 0., 0., 0., 0., 1.]])"
      ]
     },
     "execution_count": 121,
     "metadata": {},
     "output_type": "execute_result"
    }
   ],
   "source": [
    "torch.eye(10)"
   ]
  },
  {
   "cell_type": "markdown",
   "metadata": {},
   "source": [
    "The one-hot encoding of $k$ is obtained by simply extracting the $k$-th column (or row) of the identity matrix."
   ]
  },
  {
   "cell_type": "code",
   "execution_count": 122,
   "metadata": {},
   "outputs": [
    {
     "data": {
      "text/plain": [
       "tensor([0., 0., 1., 0., 0., 0., 0., 0., 0., 0.])"
      ]
     },
     "execution_count": 122,
     "metadata": {},
     "output_type": "execute_result"
    }
   ],
   "source": [
    "torch.eye(10)[2]"
   ]
  },
  {
   "cell_type": "markdown",
   "metadata": {},
   "source": [
    "We reshape the tensor so that it is a column vector. The function `one_hot_encode` also works on many labels at once."
   ]
  },
  {
   "cell_type": "code",
   "execution_count": 124,
   "metadata": {},
   "outputs": [],
   "source": [
    "def one_hot_encode(y, num_classes):\n",
    "  return torch.eye(num_classes)[y].view(y.shape[0], num_classes)"
   ]
  },
  {
   "cell_type": "code",
   "execution_count": 125,
   "metadata": {},
   "outputs": [],
   "source": [
    "y_train_one_hot = one_hot_encode(y_train_raw, num_classes=10)\n",
    "y_test_one_hot = one_hot_encode(y_test_raw, num_classes=10)"
   ]
  },
  {
   "cell_type": "markdown",
   "metadata": {},
   "source": [
    "Let us see some examples."
   ]
  },
  {
   "cell_type": "code",
   "execution_count": 128,
   "metadata": {},
   "outputs": [
    {
     "name": "stdout",
     "output_type": "stream",
     "text": [
      "Label: 5 | One-hot encoding: tensor([0., 0., 0., 0., 0., 1., 0., 0., 0., 0.])\n",
      "Label: 0 | One-hot encoding: tensor([1., 0., 0., 0., 0., 0., 0., 0., 0., 0.])\n",
      "Label: 4 | One-hot encoding: tensor([0., 0., 0., 0., 1., 0., 0., 0., 0., 0.])\n",
      "Label: 1 | One-hot encoding: tensor([0., 1., 0., 0., 0., 0., 0., 0., 0., 0.])\n",
      "Label: 9 | One-hot encoding: tensor([0., 0., 0., 0., 0., 0., 0., 0., 0., 1.])\n",
      "Label: 2 | One-hot encoding: tensor([0., 0., 1., 0., 0., 0., 0., 0., 0., 0.])\n",
      "Label: 1 | One-hot encoding: tensor([0., 1., 0., 0., 0., 0., 0., 0., 0., 0.])\n"
     ]
    }
   ],
   "source": [
    "for i in range(7):\n",
    "  print(f\"Label: {y_train_raw[i,:].item()} | One-hot encoding: {y_train_one_hot[i,:]}\")"
   ]
  },
  {
   "cell_type": "markdown",
   "metadata": {},
   "source": [
    "For binary classification (recognizing if a digit is 0 or not), we will use the following labels:\n",
    "\n",
    "- 1 if the digit is 0: ''success'',\n",
    "- 0 if the digit is not 0: ''failure''.\n",
    "  \n",
    "We only need the first component of the one-hot encoding. It is equal to 1 if the digit is 0 and 0 otherwise."
   ]
  },
  {
   "cell_type": "code",
   "execution_count": 129,
   "metadata": {},
   "outputs": [],
   "source": [
    "y_train = y_train_one_hot[:,0].view(-1, 1)\n",
    "y_test = y_test_one_hot[:,0].view(-1, 1)"
   ]
  },
  {
   "cell_type": "code",
   "execution_count": 131,
   "metadata": {},
   "outputs": [
    {
     "name": "stdout",
     "output_type": "stream",
     "text": [
      "Label: 5 | Target: 0.0\n",
      "Label: 0 | Target: 1.0\n",
      "Label: 4 | Target: 0.0\n",
      "Label: 1 | Target: 0.0\n",
      "Label: 9 | Target: 0.0\n",
      "Label: 2 | Target: 0.0\n",
      "Label: 1 | Target: 0.0\n"
     ]
    }
   ],
   "source": [
    "for i in range(7):\n",
    "  print(f\"Label: {y_train_raw[i,:].item()} | Target: {y_train[i,:].item()}\")"
   ]
  },
  {
   "cell_type": "markdown",
   "metadata": {},
   "source": [
    "We define some variables that help to read the code."
   ]
  },
  {
   "cell_type": "code",
   "execution_count": 132,
   "metadata": {},
   "outputs": [
    {
     "name": "stdout",
     "output_type": "stream",
     "text": [
      "Number of features: 784\n",
      "Number of training samples: 60000\n",
      "Number of test samples: 10000\n"
     ]
    }
   ],
   "source": [
    "n_training_samples = x_train.shape[0]\n",
    "n_test_samples = x_test.shape[0]\n",
    "n_features = x_train.shape[1]\n",
    "print(f\"Number of features: {n_features}\")\n",
    "print(f\"Number of training samples: {n_training_samples}\")\n",
    "print(f\"Number of test samples: {n_test_samples}\")"
   ]
  },
  {
   "cell_type": "markdown",
   "metadata": {},
   "source": [
    "We recall how binary logistic regression works. We have some data $\\{(x_i, y_i)\\}_{i=0, \\ldots, N-1}$ where $x_i \\in \\mathbb{R}^{1\\times M}$ and $y_i \\in \\{0, 1\\}$. The data are thought as realizations of a random sample $(X_0, Y_0), \\ldots, (X_{N-1}, Y_{N-1})$ drawn from a certain distribution. We make the *ansatz* that the conditional probability of $Y$ given $X$ is modeled by the logistic function\n",
    "$$\n",
    "\\mathbb{P}(Y=1|X=x) \\approx \\sigma(x w + b)\n",
    "$$\n",
    "where $\\sigma(t) = 1/(1 + \\exp(-t))$ is the logistic function and $w \\in \\mathbb{R}^{M \\times 1}$ and $b \\in \\mathbb{R}$ are the parameters of the model. We want to find the parameters $w$ and $b$ that minimize the realization of the cross-entropy on the sample (see notes)\n",
    "$$\n",
    "L(w, b; \\{(x_i,y_i)\\}_{i=0,\\ldots,N-1}) = -\\frac{1}{N}\\sum_{i=0}^{N-1} \\Big( y_i \\log(\\sigma(x_i w + b)) + (1-y_i) \\log(1-\\sigma(x_i w + b)) \\Big).\n",
    "$$"
   ]
  },
  {
   "cell_type": "code",
   "execution_count": 133,
   "metadata": {},
   "outputs": [],
   "source": [
    "# definition of the sigmoid function\n",
    "def sigma(t):\n",
    "  return 1 / (1 + torch.exp(-t))"
   ]
  },
  {
   "cell_type": "markdown",
   "metadata": {},
   "source": [
    "Let us plot it."
   ]
  },
  {
   "cell_type": "code",
   "execution_count": 134,
   "metadata": {},
   "outputs": [],
   "source": [
    "import matplotlib.pyplot as plt"
   ]
  },
  {
   "cell_type": "code",
   "execution_count": 135,
   "metadata": {},
   "outputs": [
    {
     "data": {
      "image/png": "[encoded data removed]",
      "text/plain": [
       "<Figure size 640x480 with 1 Axes>"
      ]
     },
     "metadata": {},
     "output_type": "display_data"
    }
   ],
   "source": [
    "t = torch.linspace(-10, 10, 100)\n",
    "plt.plot(t.numpy(), sigma(t).numpy())\n",
    "plt.title('Logistic function')\n",
    "plt.xlabel(r'$t$')\n",
    "plt.ylabel(r'$\\sigma(t)$')\n",
    "plt.axhline(0, color='black', lw=0.5)\n",
    "plt.axvline(0, color='black', lw=0.5)\n",
    "plt.show()\n"
   ]
  },
  {
   "cell_type": "markdown",
   "metadata": {},
   "source": [
    "Let us see an example of prediction for a single image done by the model."
   ]
  },
  {
   "cell_type": "code",
   "execution_count": 136,
   "metadata": {},
   "outputs": [],
   "source": [
    "x = x_train[0] # pick the first image in the training set"
   ]
  },
  {
   "cell_type": "markdown",
   "metadata": {},
   "source": [
    "We set random weights and bias."
   ]
  },
  {
   "cell_type": "code",
   "execution_count": 137,
   "metadata": {},
   "outputs": [],
   "source": [
    "w = torch.randn(n_features, 1)\n",
    "b = torch.randn(1)"
   ]
  },
  {
   "cell_type": "markdown",
   "metadata": {},
   "source": [
    "The prediction is done by applying the logistic function to the dot product of the weights and the image plus the bias."
   ]
  },
  {
   "cell_type": "code",
   "execution_count": 141,
   "metadata": {},
   "outputs": [],
   "source": [
    "q = sigma(x @ w + b)"
   ]
  },
  {
   "cell_type": "code",
   "execution_count": 144,
   "metadata": {},
   "outputs": [
    {
     "name": "stdout",
     "output_type": "stream",
     "text": [
      "5.196428446652135e-06\n"
     ]
    }
   ],
   "source": [
    "print(q.item())"
   ]
  },
  {
   "cell_type": "markdown",
   "metadata": {},
   "source": [
    "It's a very low value, so the prediction is that the digit is not 0. Of course, there is no meaning in this prediction because the weights and bias are chosen randomly."
   ]
  },
  {
   "cell_type": "markdown",
   "metadata": {},
   "source": [
    "We compute the model probability on the whole training set."
   ]
  },
  {
   "cell_type": "code",
   "execution_count": 146,
   "metadata": {},
   "outputs": [
    {
     "name": "stdout",
     "output_type": "stream",
     "text": [
      "Shape of q: torch.Size([60000, 1])\n"
     ]
    }
   ],
   "source": [
    "q = sigma(x_train @ w + b)\n",
    "print(f\"Shape of q: {q.shape}\")"
   ]
  },
  {
   "cell_type": "markdown",
   "metadata": {},
   "source": [
    "Computing the cross-entropy loss naively does not work because logarithm of 0 is not defined. "
   ]
  },
  {
   "cell_type": "code",
   "execution_count": 147,
   "metadata": {},
   "outputs": [
    {
     "data": {
      "text/plain": [
       "tensor(nan)"
      ]
     },
     "execution_count": 147,
     "metadata": {},
     "output_type": "execute_result"
    }
   ],
   "source": [
    "-torch.mean(y_train * torch.log(q) + (1 - y_train) * torch.log(1 - q))"
   ]
  },
  {
   "cell_type": "code",
   "execution_count": 148,
   "metadata": {},
   "outputs": [],
   "source": [
    "def loss(w,b,x,y):\n",
    "  y_train_1_bool = (y == 1)\n",
    "  y_train_0_bool = ~y_train_1_bool\n",
    "  q = sigma(x @ w + b)\n",
    "  q_not_0_bool = (q != 0)\n",
    "  q_not_1_bool = (q != 1)\n",
    "  return - torch.sum(torch.log(q)[q_not_0_bool*y_train_1_bool]) - torch.sum(torch.log(1-q)[q_not_1_bool*y_train_0_bool]) "
   ]
  },
  {
   "cell_type": "code",
   "execution_count": 149,
   "metadata": {},
   "outputs": [
    {
     "data": {
      "text/plain": [
       "tensor(136256.5781)"
      ]
     },
     "execution_count": 149,
     "metadata": {},
     "output_type": "execute_result"
    }
   ],
   "source": [
    "loss(w,b,x_train,y_train)"
   ]
  },
  {
   "cell_type": "markdown",
   "metadata": {},
   "source": [
    "Finding the minimum of the loss is not feasible explicitly. We need to use an optimization algorithm. In the next lectures we will see how to do this. For now, think of the algorithm as a black box."
   ]
  },
  {
   "cell_type": "code",
   "execution_count": 151,
   "metadata": {},
   "outputs": [],
   "source": [
    "# ignore this cell, we will understand this later\n",
    "\n",
    "def gradient_loss(w,b,x,y):\n",
    "  q = sigma(x @ w + b)\n",
    "  # Compute gradients\n",
    "  gradL_dw = x.t() @ (q-y)\n",
    "  gradL_db = torch.sum(q - y_train)\n",
    "  \n",
    "  # Norm clipping gradients\n",
    "  norm = torch.sqrt(torch.sum(gradL_dw**2 + gradL_db**2))\n",
    "  scaling_factor = max(1, norm)\n",
    "  gradL_dw = gradL_dw / scaling_factor\n",
    "  gradL_db = gradL_db / scaling_factor \n",
    "  \n",
    "  return gradL_dw, gradL_db\n",
    "\n",
    "def update(w,b,x,y,learning_rate):\n",
    "  gradL_dw, gradL_db = gradient_loss(w,b,x,y)\n",
    "  w = w - learning_rate * gradL_dw\n",
    "  b = b - learning_rate * gradL_db\n",
    "  return w, b"
   ]
  },
  {
   "cell_type": "markdown",
   "metadata": {},
   "source": [
    "In the next cell the optimization algorithm is implemented. We will understand what it does in the next lectures. For now, just notice that:\n",
    "- The algorithm is iterative. It runs for a certain number of iterations: `n_epochs`.\n",
    "- The algorithm starts from an initial guess of the weights $w$ (random) and bias $b$ (0): `w = torch.randn((n_features, 1), dtype=torch.float32)` and `b = torch.tensor(0,dtype=torch.float32)`.\n",
    "- In each epoch, we update the values of $w$ and $b$. \n",
    "- Every 100 epochs, we keep track of the loss and print it. Later, we will plot it."
   ]
  },
  {
   "cell_type": "code",
   "execution_count": 152,
   "metadata": {},
   "outputs": [
    {
     "name": "stdout",
     "output_type": "stream",
     "text": [
      "Epoch: 0  | Loss: 92062.1171875\n",
      "Epoch: 100  | Loss: 17247.111328125\n",
      "Epoch: 200  | Loss: 7777.79931640625\n",
      "Epoch: 300  | Loss: 5192.681640625\n",
      "Epoch: 400  | Loss: 4180.4765625\n",
      "Epoch: 500  | Loss: 3609.7021484375\n",
      "Epoch: 600  | Loss: 3212.296142578125\n",
      "Epoch: 700  | Loss: 2906.168212890625\n",
      "Epoch: 800  | Loss: 2657.572265625\n",
      "Epoch: 900  | Loss: 2449.3544921875\n"
     ]
    }
   ],
   "source": [
    "learning_rate = 0.1\n",
    "n_epochs = 1000\n",
    "torch.manual_seed(42) # this fixes the random seed for the random number generator\n",
    "w = torch.randn((n_features,1), dtype=torch.float32)\n",
    "b = torch.tensor(0, dtype=torch.float32)\n",
    "losses = []\n",
    "for epoch in range(n_epochs):\n",
    "  if epoch % 100 == 0:\n",
    "    losses.append(loss(w,b,x_train,y_train).item())\n",
    "    print('Epoch:', epoch, ' | Loss:', losses[-1])\n",
    "  w, b = update(w, b, x_train, y_train, learning_rate)"
   ]
  },
  {
   "cell_type": "markdown",
   "metadata": {},
   "source": [
    "Let us plot how the loss behaves with the number of epochs. "
   ]
  },
  {
   "cell_type": "code",
   "execution_count": 153,
   "metadata": {},
   "outputs": [
    {
     "data": {
      "image/png": "[encoded data removed]",
      "text/plain": [
       "<Figure size 1000x500 with 2 Axes>"
      ]
     },
     "metadata": {},
     "output_type": "display_data"
    }
   ],
   "source": [
    "# plot of the loss\n",
    "fig = plt.figure(figsize=(10, 5))\n",
    "ax1 = fig.add_subplot(1, 2, 1)\n",
    "ax1 = plt.plot(range(0, n_epochs, 100), losses)\n",
    "ax2 = fig.add_subplot(1, 2, 2)\n",
    "ax2 = plt.plot(range(0, n_epochs, 100)[1:], losses[1:])"
   ]
  },
  {
   "cell_type": "markdown",
   "metadata": {},
   "source": [
    "We clearly see that the loss decreases with the number of epochs. This is a good sign. It means that the model is learning and we are getting better values for the weights and bias. After this training phase, we have good values for the weights and bias and we can use them to make predictions on the test set."
   ]
  },
  {
   "cell_type": "markdown",
   "metadata": {},
   "source": [
    "To do a prediction, we decide as follows: If the model probability is greater than $50\\%$, we predict that the digit is $0$. Otherwise, we predict that the digit is not $0$."
   ]
  },
  {
   "cell_type": "code",
   "execution_count": 154,
   "metadata": {},
   "outputs": [],
   "source": [
    "q = sigma(x_test @ w + b) \n",
    "y_pred = (q > 0.5).float()"
   ]
  },
  {
   "cell_type": "markdown",
   "metadata": {},
   "source": [
    "Let us count the percentage of correct predictions."
   ]
  },
  {
   "cell_type": "code",
   "execution_count": 155,
   "metadata": {},
   "outputs": [
    {
     "name": "stdout",
     "output_type": "stream",
     "text": [
      "Correct predictions: 98.9700%\n"
     ]
    }
   ],
   "source": [
    "p_correct_predictions = (torch.sum(y_test == y_pred)/ n_test_samples).item()\n",
    "print(f'Correct predictions: {p_correct_predictions*100:.4f}%')"
   ]
  },
  {
   "cell_type": "markdown",
   "metadata": {},
   "source": [
    "It's a good result, but don't forget that we are only recognizing if a digit is $0$ or not! If we trivially predict that the digit is not $0$, we get $90\\%$ accuracy. Still, it's an improvement over the trivial prediction."
   ]
  },
  {
   "cell_type": "code",
   "execution_count": 157,
   "metadata": {},
   "outputs": [
    {
     "name": "stdout",
     "output_type": "stream",
     "text": [
      "Trivial prediction (always trying to predict 0): 90.2000%\n"
     ]
    }
   ],
   "source": [
    "p_trivial_predictions = (torch.sum(y_test == torch.zeros_like(y_test)) / n_test_samples).item()\n",
    "print(f'Trivial prediction (always trying to predict 0): {p_trivial_predictions*100:.4f}%')"
   ]
  },
  {
   "cell_type": "markdown",
   "metadata": {},
   "source": [
    "Let us plot some examples of correct and incorrect predictions."
   ]
  },
  {
   "cell_type": "code",
   "execution_count": 164,
   "metadata": {},
   "outputs": [],
   "source": [
    "correct_predictions = (y_test == y_pred).view(-1)\n",
    "wrong_predictions = (y_test != y_pred).view(-1)\n",
    "\n",
    "x_test_correct = x_test[correct_predictions, :]\n",
    "y_test_correct = y_test[correct_predictions, :]\n",
    "y_pred_correct = y_pred[correct_predictions, :]\n",
    "\n",
    "x_test_wrong = x_test[wrong_predictions, :]\n",
    "y_test_wrong = y_test[wrong_predictions, :]\n",
    "y_pred_wrong = y_pred[wrong_predictions, :]"
   ]
  },
  {
   "cell_type": "markdown",
   "metadata": {},
   "source": [
    "Let us see some examples of correct predictions. (Remember: `1` means that the digit is \"$0$\" and `0` means that the digit is not \"$0$\".)"
   ]
  },
  {
   "cell_type": "code",
   "execution_count": 166,
   "metadata": {},
   "outputs": [
    {
     "data": {
      "image/png": "[encoded data removed]",
      "text/plain": [
       "<Figure size 2000x100 with 20 Axes>"
      ]
     },
     "metadata": {},
     "output_type": "display_data"
    }
   ],
   "source": [
    "# plot of the wrong predictions\n",
    "n_example = 20 \n",
    "fig = plt.figure(figsize=(n_example, 1))\n",
    "axs = []\n",
    "offset = 20\n",
    "for i in range(n_example):\n",
    "  axs.append(fig.add_subplot(1, n_example, i+1))\n",
    "  axs[i].imshow(x_test_correct[offset+i,:].view(28,28), cmap='gray_r')\n",
    "  axs[i].set_title(f'T{y_test_correct[offset+i,0].item():.0f} P{y_pred_correct[offset+i,0].item():.0f}')\n",
    "  axs[i].axis('off')"
   ]
  },
  {
   "cell_type": "markdown",
   "metadata": {},
   "source": [
    "Let us see some examples of wrong predictions. (Remember: `1` means that the digit is \"$0$\" and `0` means that the digit is not \"$0$\".)"
   ]
  },
  {
   "cell_type": "code",
   "execution_count": 167,
   "metadata": {},
   "outputs": [
    {
     "data": {
      "image/png": "[encoded data removed]",
      "text/plain": [
       "<Figure size 2000x100 with 20 Axes>"
      ]
     },
     "metadata": {},
     "output_type": "display_data"
    }
   ],
   "source": [
    "# plot of the wrong predictions\n",
    "n_example = 20 \n",
    "fig = plt.figure(figsize=(n_example, 1))\n",
    "axs = []\n",
    "offset = 20\n",
    "for i in range(n_example):\n",
    "  axs.append(fig.add_subplot(1, n_example, i+1))\n",
    "  axs[i].imshow(x_test_wrong[offset+i,:].view(28,28), cmap='gray_r')\n",
    "  axs[i].set_title(f'T{y_test_wrong[offset+i,0].item():.0f} P{y_pred_wrong[offset+i,0].item():.0f}')\n",
    "  axs[i].axis('off')"
   ]
  }
 ],
 "metadata": {
  "kernelspec": {
   "display_name": ".venv",
   "language": "python",
   "name": "python3"
  },
  "language_info": {
   "codemirror_mode": {
    "name": "ipython",
    "version": 3
   },
   "file_extension": ".py",
   "mimetype": "text/x-python",
   "name": "python",
   "nbconvert_exporter": "python",
   "pygments_lexer": "ipython3",
   "version": "3.12.7"
  }
 },
 "nbformat": 4,
 "nbformat_minor": 2
}
